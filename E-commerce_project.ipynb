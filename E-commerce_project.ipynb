{
 "cells": [
  {
   "cell_type": "markdown",
   "metadata": {},
   "source": [
    "# Проект e-commerce"
   ]
  },
  {
   "cell_type": "code",
   "execution_count": null,
   "metadata": {},
   "outputs": [],
   "source": [
    "Импортируем библиотеки"
   ]
  },
  {
   "cell_type": "code",
   "execution_count": 239,
   "metadata": {},
   "outputs": [],
   "source": [
    "import pandas as pd\n",
    "from urllib.parse import urlencode\n",
    "import requests\n",
    "import seaborn as sns\n",
    "import pandas as pd\n",
    "import numpy as np\n",
    "import matplotlib.pyplot as plt\n",
    "import matplotlib as mpl\n",
    "import calendar as cl\n",
    "from datetime import timedelta\n",
    "%matplotlib inline\n",
    "import plotly.express as px"
   ]
  },
  {
   "cell_type": "markdown",
   "metadata": {},
   "source": [
    "Считываем таблицы"
   ]
  },
  {
   "cell_type": "code",
   "execution_count": 263,
   "metadata": {},
   "outputs": [],
   "source": [
    "# внешняя ссылка на таблицу\n",
    "df_url = 'https://disk.yandex.ru/d/QXrVDUoQvFhIcg'\n",
    "base_url = 'https://cloud-api.yandex.net/v1/disk/public/resources/download?'\n",
    "# Получаем загрузочную ссылку\n",
    "df_final_url = base_url + urlencode(dict(public_key=df_url))\n",
    "response = requests.get(df_final_url)\n",
    "df_download_url = response.json()['href']\n",
    "\n",
    "\n",
    "customer = pd.read_csv(df_download_url, sep=\",\")\n",
    "\n",
    "# внешняя ссылка на таблицу\n",
    "df_url = 'https://disk.yandex.ru/d/0zWmh1bYP6REbw'\n",
    "base_url = 'https://cloud-api.yandex.net/v1/disk/public/resources/download?'\n",
    "# Получаем загрузочную ссылку\n",
    "df_final_url = base_url + urlencode(dict(public_key=df_url))\n",
    "response = requests.get(df_final_url)\n",
    "df_download_url = response.json()['href']\n",
    "\n",
    "orders = pd.read_csv(df_download_url, sep=\",\")\n",
    "\n",
    "# внешняя ссылка на таблицу\n",
    "df_url = 'https://disk.yandex.ru/d/xCsQ0FiC-Ue4Lg'\n",
    "base_url = 'https://cloud-api.yandex.net/v1/disk/public/resources/download?'\n",
    "# Получаем загрузочную ссылку\n",
    "df_final_url = base_url + urlencode(dict(public_key=df_url))\n",
    "response = requests.get(df_final_url)\n",
    "df_download_url = response.json()['href']\n",
    "\n",
    "order_items = pd.read_csv(df_download_url, sep=\",\")"
   ]
  },
  {
   "cell_type": "markdown",
   "metadata": {},
   "source": [
    "Проверим данные, смерджим три таблицы в одну для проведения проверки"
   ]
  },
  {
   "cell_type": "markdown",
   "metadata": {},
   "source": [
    "Для начала посмотрим типы данных"
   ]
  },
  {
   "cell_type": "code",
   "execution_count": 7,
   "metadata": {},
   "outputs": [],
   "source": [
    "orders_items=customer.merge(orders, on='customer_id', how='left').merge(order_items, on='order_id', how='left')"
   ]
  },
  {
   "cell_type": "code",
   "execution_count": 8,
   "metadata": {},
   "outputs": [
    {
     "data": {
      "text/plain": [
       "customer_id                       object\n",
       "customer_unique_id                object\n",
       "customer_zip_code_prefix           int64\n",
       "customer_city                     object\n",
       "customer_state                    object\n",
       "order_id                          object\n",
       "order_status                      object\n",
       "order_purchase_timestamp          object\n",
       "order_approved_at                 object\n",
       "order_delivered_carrier_date      object\n",
       "order_delivered_customer_date     object\n",
       "order_estimated_delivery_date     object\n",
       "order_item_id                    float64\n",
       "product_id                        object\n",
       "seller_id                         object\n",
       "shipping_limit_date               object\n",
       "price                            float64\n",
       "freight_value                    float64\n",
       "dtype: object"
      ]
     },
     "execution_count": 8,
     "metadata": {},
     "output_type": "execute_result"
    }
   ],
   "source": [
    "orders_items.dtypes"
   ]
  },
  {
   "cell_type": "markdown",
   "metadata": {},
   "source": [
    "Как мы видим, столбцы с датами представлены в формате object, в проследствии придется переводить их в формат даты"
   ]
  },
  {
   "cell_type": "markdown",
   "metadata": {},
   "source": [
    "Теперь посмотрим на количество пропущенных значений в колонках"
   ]
  },
  {
   "cell_type": "code",
   "execution_count": 9,
   "metadata": {},
   "outputs": [
    {
     "data": {
      "text/plain": [
       "customer_id                         0\n",
       "customer_unique_id                  0\n",
       "customer_zip_code_prefix            0\n",
       "customer_city                       0\n",
       "customer_state                      0\n",
       "order_id                            0\n",
       "order_status                        0\n",
       "order_purchase_timestamp            0\n",
       "order_approved_at                 161\n",
       "order_delivered_carrier_date     1968\n",
       "order_delivered_customer_date    3229\n",
       "order_estimated_delivery_date       0\n",
       "order_item_id                     775\n",
       "product_id                        775\n",
       "seller_id                         775\n",
       "shipping_limit_date               775\n",
       "price                             775\n",
       "freight_value                     775\n",
       "dtype: int64"
      ]
     },
     "execution_count": 9,
     "metadata": {},
     "output_type": "execute_result"
    }
   ],
   "source": [
    "orders_items.isna().sum()"
   ]
  },
  {
   "cell_type": "markdown",
   "metadata": {},
   "source": [
    "Судя по пропущенным значениям в колонках order_approved_at, order_delivered_carrier_date, order_delivered_customer_date можно сделать вывод о том, что не все заказы были завершены. Также мы видим много пропусков в данных с товарами, но это связано с тем, что мы применили мердж с параметром how='left' и не все заказы содержали данные о товарах. Если мы проверим таблицу order_items отдельно, обнаружим, что пропущенных значений в ней нет."
   ]
  },
  {
   "cell_type": "code",
   "execution_count": 10,
   "metadata": {},
   "outputs": [
    {
     "data": {
      "text/plain": [
       "order_id               0\n",
       "order_item_id          0\n",
       "product_id             0\n",
       "seller_id              0\n",
       "shipping_limit_date    0\n",
       "price                  0\n",
       "freight_value          0\n",
       "dtype: int64"
      ]
     },
     "execution_count": 10,
     "metadata": {},
     "output_type": "execute_result"
    }
   ],
   "source": [
    "order_items.isna().sum()"
   ]
  },
  {
   "cell_type": "markdown",
   "metadata": {},
   "source": [
    "Проверим данные на дубликаты."
   ]
  },
  {
   "cell_type": "code",
   "execution_count": 12,
   "metadata": {},
   "outputs": [
    {
     "data": {
      "text/html": [
       "<div>\n",
       "<style scoped>\n",
       "    .dataframe tbody tr th:only-of-type {\n",
       "        vertical-align: middle;\n",
       "    }\n",
       "\n",
       "    .dataframe tbody tr th {\n",
       "        vertical-align: top;\n",
       "    }\n",
       "\n",
       "    .dataframe thead th {\n",
       "        text-align: right;\n",
       "    }\n",
       "</style>\n",
       "<table border=\"1\" class=\"dataframe\">\n",
       "  <thead>\n",
       "    <tr style=\"text-align: right;\">\n",
       "      <th></th>\n",
       "      <th>customer_id</th>\n",
       "      <th>customer_unique_id</th>\n",
       "      <th>customer_zip_code_prefix</th>\n",
       "      <th>customer_city</th>\n",
       "      <th>customer_state</th>\n",
       "      <th>order_id</th>\n",
       "      <th>order_status</th>\n",
       "      <th>order_purchase_timestamp</th>\n",
       "      <th>order_approved_at</th>\n",
       "      <th>order_delivered_carrier_date</th>\n",
       "      <th>order_delivered_customer_date</th>\n",
       "      <th>order_estimated_delivery_date</th>\n",
       "      <th>order_item_id</th>\n",
       "      <th>product_id</th>\n",
       "      <th>seller_id</th>\n",
       "      <th>shipping_limit_date</th>\n",
       "      <th>price</th>\n",
       "      <th>freight_value</th>\n",
       "    </tr>\n",
       "  </thead>\n",
       "  <tbody>\n",
       "  </tbody>\n",
       "</table>\n",
       "</div>"
      ],
      "text/plain": [
       "Empty DataFrame\n",
       "Columns: [customer_id, customer_unique_id, customer_zip_code_prefix, customer_city, customer_state, order_id, order_status, order_purchase_timestamp, order_approved_at, order_delivered_carrier_date, order_delivered_customer_date, order_estimated_delivery_date, order_item_id, product_id, seller_id, shipping_limit_date, price, freight_value]\n",
       "Index: []"
      ]
     },
     "execution_count": 12,
     "metadata": {},
     "output_type": "execute_result"
    }
   ],
   "source": [
    "orders_items.loc[orders_items.duplicated()] "
   ]
  },
  {
   "cell_type": "markdown",
   "metadata": {},
   "source": [
    "Дубликаты отсутствуют."
   ]
  },
  {
   "cell_type": "markdown",
   "metadata": {},
   "source": [
    "## 1. Сколько у нас пользователей, которые совершили покупку только один раз?"
   ]
  },
  {
   "cell_type": "markdown",
   "metadata": {},
   "source": [
    "Покупкой можно считать как момент приобретения товара, так и момент его доставки (это определяется в соответствии с договором между продавцом и покупателем). \n",
    "Так как мы производим анализ для целей бизнеса (а не, например, отчет для налоговой), предлагаю не опираться на налоговый, гражданский кодексы или иные нормативные акты.\n",
    "Для нас важно использовать полный объем данных о продажах, а не ограничиваться только доставленными заказами. Если клиент прошел все этапы воронки продаж и дошел до оплаты, то мы должны считать его своим покупателем и учитывать его действия в изучении покупок.\n",
    "\n",
    "Поэтому предлагаю использовать для анализа заказы со временем подтверждения оплаты и считать их покупками."
   ]
  },
  {
   "cell_type": "markdown",
   "metadata": {},
   "source": [
    "Мерджим датафрейм для работы, который будет содержать информацию о пользователях и заказах"
   ]
  },
  {
   "cell_type": "code",
   "execution_count": 214,
   "metadata": {},
   "outputs": [],
   "source": [
    "customer_orders=customer.merge(orders, on='customer_id', how='left')"
   ]
  },
  {
   "cell_type": "markdown",
   "metadata": {},
   "source": [
    "Оставляем только оплаченные заказы"
   ]
  },
  {
   "cell_type": "code",
   "execution_count": 215,
   "metadata": {},
   "outputs": [],
   "source": [
    "customer_orders = customer_orders.dropna(subset=['order_approved_at'])"
   ]
  },
  {
   "cell_type": "markdown",
   "metadata": {},
   "source": [
    "Посмотрим, нет ли противоречий в данных и выведем статусы заказов."
   ]
  },
  {
   "cell_type": "code",
   "execution_count": 216,
   "metadata": {},
   "outputs": [
    {
     "data": {
      "text/html": [
       "<div>\n",
       "<style scoped>\n",
       "    .dataframe tbody tr th:only-of-type {\n",
       "        vertical-align: middle;\n",
       "    }\n",
       "\n",
       "    .dataframe tbody tr th {\n",
       "        vertical-align: top;\n",
       "    }\n",
       "\n",
       "    .dataframe thead th {\n",
       "        text-align: right;\n",
       "    }\n",
       "</style>\n",
       "<table border=\"1\" class=\"dataframe\">\n",
       "  <thead>\n",
       "    <tr style=\"text-align: right;\">\n",
       "      <th></th>\n",
       "      <th>order_status</th>\n",
       "      <th>order_id</th>\n",
       "    </tr>\n",
       "  </thead>\n",
       "  <tbody>\n",
       "    <tr>\n",
       "      <th>0</th>\n",
       "      <td>approved</td>\n",
       "      <td>2</td>\n",
       "    </tr>\n",
       "    <tr>\n",
       "      <th>1</th>\n",
       "      <td>canceled</td>\n",
       "      <td>484</td>\n",
       "    </tr>\n",
       "    <tr>\n",
       "      <th>2</th>\n",
       "      <td>delivered</td>\n",
       "      <td>96464</td>\n",
       "    </tr>\n",
       "    <tr>\n",
       "      <th>3</th>\n",
       "      <td>invoiced</td>\n",
       "      <td>314</td>\n",
       "    </tr>\n",
       "    <tr>\n",
       "      <th>4</th>\n",
       "      <td>processing</td>\n",
       "      <td>301</td>\n",
       "    </tr>\n",
       "    <tr>\n",
       "      <th>5</th>\n",
       "      <td>shipped</td>\n",
       "      <td>1107</td>\n",
       "    </tr>\n",
       "    <tr>\n",
       "      <th>6</th>\n",
       "      <td>unavailable</td>\n",
       "      <td>609</td>\n",
       "    </tr>\n",
       "  </tbody>\n",
       "</table>\n",
       "</div>"
      ],
      "text/plain": [
       "  order_status  order_id\n",
       "0     approved         2\n",
       "1     canceled       484\n",
       "2    delivered     96464\n",
       "3     invoiced       314\n",
       "4   processing       301\n",
       "5      shipped      1107\n",
       "6  unavailable       609"
      ]
     },
     "execution_count": 216,
     "metadata": {},
     "output_type": "execute_result"
    }
   ],
   "source": [
    "customer_orders.groupby('order_status', as_index = False)\\\n",
    "    .agg({'order_id':'count'})"
   ]
  },
  {
   "cell_type": "markdown",
   "metadata": {},
   "source": [
    "Заказы со статусом approved (подтверждён) не могут быть оплачены, так как еще не был выставлен счет.\n",
    "Предлагаю их исключить из покупок, так как данные по ним (либо статус, либо время оплаты) являются ошибкой.\n",
    "Группируем по покупателям и находим только тех, кто совершил одну покупку."
   ]
  },
  {
   "cell_type": "code",
   "execution_count": 210,
   "metadata": {},
   "outputs": [
    {
     "data": {
      "text/plain": [
       "93047"
      ]
     },
     "execution_count": 210,
     "metadata": {},
     "output_type": "execute_result"
    }
   ],
   "source": [
    "customer_orders.query('order_status != \"approved\"') \\\n",
    "    .groupby('customer_unique_id', as_index = False)\\\n",
    "    .agg({'order_id':'count'}).query('order_id==1').count().order_id"
   ]
  },
  {
   "cell_type": "markdown",
   "metadata": {},
   "source": [
    "93047 пользователей совершили только 1 покупку"
   ]
  },
  {
   "cell_type": "markdown",
   "metadata": {},
   "source": [
    "## 2. Сколько заказов в месяц в среднем не доставляется по разным причинам (вывести детализацию по причинам)?"
   ]
  },
  {
   "cell_type": "markdown",
   "metadata": {},
   "source": [
    "Мерджим датафрейм для работы, который будет содержать информацию о пользователях и заказах"
   ]
  },
  {
   "cell_type": "code",
   "execution_count": 86,
   "metadata": {},
   "outputs": [],
   "source": [
    "customer_orders=customer.merge(orders, on='customer_id', how='left')"
   ]
  },
  {
   "cell_type": "markdown",
   "metadata": {},
   "source": [
    "Приводим колонку со временем оформления заказа к формату даты и оставляем только месяц и год"
   ]
  },
  {
   "cell_type": "code",
   "execution_count": 83,
   "metadata": {},
   "outputs": [],
   "source": [
    "customer_orders.order_purchase_timestamp = pd.to_datetime(customer_orders.order_purchase_timestamp).dt.strftime('%Y-%m')"
   ]
  },
  {
   "cell_type": "markdown",
   "metadata": {},
   "source": [
    "Создаем датафрейм с недоставленными заказами"
   ]
  },
  {
   "cell_type": "code",
   "execution_count": 84,
   "metadata": {},
   "outputs": [],
   "source": [
    "orders_no_delivered = customer_orders.query('order_status != \"delivered\"')"
   ]
  },
  {
   "cell_type": "markdown",
   "metadata": {},
   "source": [
    "Группируем данные, чтобы получить датафрейм со статусами заказов (причинами) и средним количеством заказов в меясяц. \n",
    "Также для удобства переименовываем колонки"
   ]
  },
  {
   "cell_type": "code",
   "execution_count": 64,
   "metadata": {},
   "outputs": [
    {
     "data": {
      "text/html": [
       "<div>\n",
       "<style scoped>\n",
       "    .dataframe tbody tr th:only-of-type {\n",
       "        vertical-align: middle;\n",
       "    }\n",
       "\n",
       "    .dataframe tbody tr th {\n",
       "        vertical-align: top;\n",
       "    }\n",
       "\n",
       "    .dataframe thead th {\n",
       "        text-align: right;\n",
       "    }\n",
       "</style>\n",
       "<table border=\"1\" class=\"dataframe\">\n",
       "  <thead>\n",
       "    <tr style=\"text-align: right;\">\n",
       "      <th></th>\n",
       "      <th>order_status</th>\n",
       "      <th>orders_mean</th>\n",
       "    </tr>\n",
       "  </thead>\n",
       "  <tbody>\n",
       "    <tr>\n",
       "      <th>0</th>\n",
       "      <td>approved</td>\n",
       "      <td>1.0</td>\n",
       "    </tr>\n",
       "    <tr>\n",
       "      <th>1</th>\n",
       "      <td>canceled</td>\n",
       "      <td>26.0</td>\n",
       "    </tr>\n",
       "    <tr>\n",
       "      <th>2</th>\n",
       "      <td>created</td>\n",
       "      <td>2.0</td>\n",
       "    </tr>\n",
       "    <tr>\n",
       "      <th>3</th>\n",
       "      <td>invoiced</td>\n",
       "      <td>15.0</td>\n",
       "    </tr>\n",
       "    <tr>\n",
       "      <th>4</th>\n",
       "      <td>processing</td>\n",
       "      <td>16.0</td>\n",
       "    </tr>\n",
       "    <tr>\n",
       "      <th>5</th>\n",
       "      <td>shipped</td>\n",
       "      <td>48.0</td>\n",
       "    </tr>\n",
       "    <tr>\n",
       "      <th>6</th>\n",
       "      <td>unavailable</td>\n",
       "      <td>29.0</td>\n",
       "    </tr>\n",
       "  </tbody>\n",
       "</table>\n",
       "</div>"
      ],
      "text/plain": [
       "  order_status  orders_mean\n",
       "0     approved          1.0\n",
       "1     canceled         26.0\n",
       "2      created          2.0\n",
       "3     invoiced         15.0\n",
       "4   processing         16.0\n",
       "5      shipped         48.0\n",
       "6  unavailable         29.0"
      ]
     },
     "execution_count": 64,
     "metadata": {},
     "output_type": "execute_result"
    }
   ],
   "source": [
    "orders_no_delivered.groupby(['order_purchase_timestamp','order_status'],as_index = False).agg({'customer_id':'count'}) \\\n",
    "    .groupby('order_status',as_index = False).agg({'customer_id':'mean'}) \\\n",
    "    .rename(columns={'customer_id':'orders_mean'}).round(0)"
   ]
  },
  {
   "cell_type": "markdown",
   "metadata": {},
   "source": [
    "## 3. По каждому товару определить, в какой день недели товар чаще всего покупается."
   ]
  },
  {
   "cell_type": "markdown",
   "metadata": {},
   "source": [
    "Мерджим датафрейм для работы, который будет содержать информацию о заказах и товарах"
   ]
  },
  {
   "cell_type": "code",
   "execution_count": 141,
   "metadata": {},
   "outputs": [],
   "source": [
    "orders_items_time=orders.merge(order_items, on='order_id', how='left')"
   ]
  },
  {
   "cell_type": "markdown",
   "metadata": {},
   "source": [
    "Приводим колонку со временем оформления заказа к формату даты и оставляем только неделю"
   ]
  },
  {
   "cell_type": "code",
   "execution_count": 142,
   "metadata": {},
   "outputs": [],
   "source": [
    "orders_items_time.order_purchase_timestamp = pd.to_datetime(orders_items_time.order_purchase_timestamp).dt.strftime('%A')"
   ]
  },
  {
   "cell_type": "markdown",
   "metadata": {},
   "source": [
    "Группируем данные о покупках по продуктам дням недели, подсчитав количество заказов, сортируем по убыванию и удаляем дубли продуктов за исключением самого часто повторяющегося"
   ]
  },
  {
   "cell_type": "code",
   "execution_count": 143,
   "metadata": {},
   "outputs": [],
   "source": [
    "popular_day_of_the_week = orders_items_time.dropna(subset=['order_approved_at']) \\\n",
    "    .query('order_status != \"approved\"') \\\n",
    "    .groupby(['product_id','order_purchase_timestamp'], as_index=False).agg({'order_id':'count'}).sort_values('order_id', ascending=False) \\\n",
    "    .drop_duplicates(subset=[\"product_id\"], keep='first')"
   ]
  },
  {
   "cell_type": "markdown",
   "metadata": {},
   "source": [
    "Оставляем в датайфейме только нужные столбцы и переименовываем их"
   ]
  },
  {
   "cell_type": "code",
   "execution_count": 144,
   "metadata": {},
   "outputs": [
    {
     "data": {
      "text/html": [
       "<div>\n",
       "<style scoped>\n",
       "    .dataframe tbody tr th:only-of-type {\n",
       "        vertical-align: middle;\n",
       "    }\n",
       "\n",
       "    .dataframe tbody tr th {\n",
       "        vertical-align: top;\n",
       "    }\n",
       "\n",
       "    .dataframe thead th {\n",
       "        text-align: right;\n",
       "    }\n",
       "</style>\n",
       "<table border=\"1\" class=\"dataframe\">\n",
       "  <thead>\n",
       "    <tr style=\"text-align: right;\">\n",
       "      <th></th>\n",
       "      <th>product_id</th>\n",
       "      <th>frequently_day_of_the_week</th>\n",
       "    </tr>\n",
       "  </thead>\n",
       "  <tbody>\n",
       "    <tr>\n",
       "      <th>15899</th>\n",
       "      <td>422879e10f46682990de24d770e7f83d</td>\n",
       "      <td>Wednesday</td>\n",
       "    </tr>\n",
       "    <tr>\n",
       "      <th>36507</th>\n",
       "      <td>99a4788cb24856965c36a24e339b6058</td>\n",
       "      <td>Monday</td>\n",
       "    </tr>\n",
       "    <tr>\n",
       "      <th>41039</th>\n",
       "      <td>aca2eb7d00ea1a7b8ebd4e68314663af</td>\n",
       "      <td>Thursday</td>\n",
       "    </tr>\n",
       "    <tr>\n",
       "      <th>20123</th>\n",
       "      <td>53b36df67ebb7c41585e8d54d6772e08</td>\n",
       "      <td>Tuesday</td>\n",
       "    </tr>\n",
       "    <tr>\n",
       "      <th>12995</th>\n",
       "      <td>368c6c730842d78016ad823897a372db</td>\n",
       "      <td>Friday</td>\n",
       "    </tr>\n",
       "    <tr>\n",
       "      <th>...</th>\n",
       "      <td>...</td>\n",
       "      <td>...</td>\n",
       "    </tr>\n",
       "    <tr>\n",
       "      <th>24004</th>\n",
       "      <td>642247ccf62585635cefa1bf09f59b94</td>\n",
       "      <td>Sunday</td>\n",
       "    </tr>\n",
       "    <tr>\n",
       "      <th>24016</th>\n",
       "      <td>642e125cbc752b4eeb8faf442319c39f</td>\n",
       "      <td>Thursday</td>\n",
       "    </tr>\n",
       "    <tr>\n",
       "      <th>24024</th>\n",
       "      <td>6432d844f2be41bb6f2fd279e23415da</td>\n",
       "      <td>Friday</td>\n",
       "    </tr>\n",
       "    <tr>\n",
       "      <th>24026</th>\n",
       "      <td>6435535083cf42eb1ce5d96f2c4d3482</td>\n",
       "      <td>Tuesday</td>\n",
       "    </tr>\n",
       "    <tr>\n",
       "      <th>61218</th>\n",
       "      <td>fffe9eeff12fcbd74a2f2b007dde0c58</td>\n",
       "      <td>Wednesday</td>\n",
       "    </tr>\n",
       "  </tbody>\n",
       "</table>\n",
       "<p>32946 rows × 2 columns</p>\n",
       "</div>"
      ],
      "text/plain": [
       "                             product_id frequently_day_of_the_week\n",
       "15899  422879e10f46682990de24d770e7f83d                  Wednesday\n",
       "36507  99a4788cb24856965c36a24e339b6058                     Monday\n",
       "41039  aca2eb7d00ea1a7b8ebd4e68314663af                   Thursday\n",
       "20123  53b36df67ebb7c41585e8d54d6772e08                    Tuesday\n",
       "12995  368c6c730842d78016ad823897a372db                     Friday\n",
       "...                                 ...                        ...\n",
       "24004  642247ccf62585635cefa1bf09f59b94                     Sunday\n",
       "24016  642e125cbc752b4eeb8faf442319c39f                   Thursday\n",
       "24024  6432d844f2be41bb6f2fd279e23415da                     Friday\n",
       "24026  6435535083cf42eb1ce5d96f2c4d3482                    Tuesday\n",
       "61218  fffe9eeff12fcbd74a2f2b007dde0c58                  Wednesday\n",
       "\n",
       "[32946 rows x 2 columns]"
      ]
     },
     "execution_count": 144,
     "metadata": {},
     "output_type": "execute_result"
    }
   ],
   "source": [
    "popular_day_of_the_week[{'product_id','order_purchase_timestamp'}].rename(columns={'order_purchase_timestamp':'frequently_day_of_the_week'})"
   ]
  },
  {
   "cell_type": "markdown",
   "metadata": {},
   "source": [
    "## 4. Сколько у каждого из пользователей в среднем покупок в неделю (по месяцам)? Не стоит забывать, что внутри месяца может быть не целое количество недель. Например, в ноябре 2021 года 4,28 недели. И внутри метрики это нужно учесть. "
   ]
  },
  {
   "cell_type": "markdown",
   "metadata": {},
   "source": [
    "Мерджим датафрейм для работы, который будет содержать информацию о заказах, товарах и покупателях\n",
    "\n",
    "Оставляем только нужные нам колонки и только оплаченные заказы"
   ]
  },
  {
   "cell_type": "code",
   "execution_count": 146,
   "metadata": {},
   "outputs": [],
   "source": [
    "customer_items=customer.merge(orders, on='customer_id', how='left').merge(order_items, on='order_id', how='left') \\\n",
    "    .dropna(subset=['order_approved_at']) \\\n",
    "    .query('order_status != \"approved\"') \\\n",
    "    [{'customer_unique_id','order_id','order_purchase_timestamp','order_status'}]"
   ]
  },
  {
   "cell_type": "markdown",
   "metadata": {},
   "source": [
    "Приводим колонку со временем оформления заказа к формату даты"
   ]
  },
  {
   "cell_type": "code",
   "execution_count": 147,
   "metadata": {},
   "outputs": [],
   "source": [
    "customer_items.order_purchase_timestamp = pd.to_datetime(customer_items.order_purchase_timestamp)"
   ]
  },
  {
   "cell_type": "markdown",
   "metadata": {},
   "source": [
    "Создаем колонку на основании даты с оформлением заказа с количеством недель в месяце"
   ]
  },
  {
   "cell_type": "code",
   "execution_count": 148,
   "metadata": {},
   "outputs": [],
   "source": [
    "customer_items['week_in_mounth'] = customer_items.order_purchase_timestamp.dt.days_in_month/7"
   ]
  },
  {
   "cell_type": "markdown",
   "metadata": {},
   "source": [
    "В колонке с датой оформления заказа оставляем только название месяца "
   ]
  },
  {
   "cell_type": "code",
   "execution_count": 149,
   "metadata": {},
   "outputs": [
    {
     "data": {
      "text/html": [
       "<div>\n",
       "<style scoped>\n",
       "    .dataframe tbody tr th:only-of-type {\n",
       "        vertical-align: middle;\n",
       "    }\n",
       "\n",
       "    .dataframe tbody tr th {\n",
       "        vertical-align: top;\n",
       "    }\n",
       "\n",
       "    .dataframe thead th {\n",
       "        text-align: right;\n",
       "    }\n",
       "</style>\n",
       "<table border=\"1\" class=\"dataframe\">\n",
       "  <thead>\n",
       "    <tr style=\"text-align: right;\">\n",
       "      <th></th>\n",
       "      <th>customer_unique_id</th>\n",
       "      <th>order_id</th>\n",
       "      <th>order_purchase_timestamp</th>\n",
       "      <th>order_status</th>\n",
       "      <th>week_in_mounth</th>\n",
       "    </tr>\n",
       "  </thead>\n",
       "  <tbody>\n",
       "    <tr>\n",
       "      <th>0</th>\n",
       "      <td>861eff4711a542e4b93843c6dd7febb0</td>\n",
       "      <td>00e7ee1b050b8499577073aeb2a297a1</td>\n",
       "      <td>May</td>\n",
       "      <td>delivered</td>\n",
       "      <td>4.428571</td>\n",
       "    </tr>\n",
       "    <tr>\n",
       "      <th>1</th>\n",
       "      <td>290c77bc529b7ac935b93aa66c333dc3</td>\n",
       "      <td>29150127e6685892b6eab3eec79f59c7</td>\n",
       "      <td>January</td>\n",
       "      <td>delivered</td>\n",
       "      <td>4.428571</td>\n",
       "    </tr>\n",
       "    <tr>\n",
       "      <th>2</th>\n",
       "      <td>060e732b5b29e8181a18229c7b0b2b5e</td>\n",
       "      <td>b2059ed67ce144a36e2aa97d2c9e9ad2</td>\n",
       "      <td>May</td>\n",
       "      <td>delivered</td>\n",
       "      <td>4.428571</td>\n",
       "    </tr>\n",
       "    <tr>\n",
       "      <th>3</th>\n",
       "      <td>259dac757896d24d7702b9acbbff3f3c</td>\n",
       "      <td>951670f92359f4fe4a63112aa7306eba</td>\n",
       "      <td>March</td>\n",
       "      <td>delivered</td>\n",
       "      <td>4.428571</td>\n",
       "    </tr>\n",
       "    <tr>\n",
       "      <th>4</th>\n",
       "      <td>345ecd01c38d18a9036ed96c73b8d066</td>\n",
       "      <td>6b7d50bd145f6fc7f33cebabd7e49d0f</td>\n",
       "      <td>July</td>\n",
       "      <td>delivered</td>\n",
       "      <td>4.428571</td>\n",
       "    </tr>\n",
       "    <tr>\n",
       "      <th>...</th>\n",
       "      <td>...</td>\n",
       "      <td>...</td>\n",
       "      <td>...</td>\n",
       "      <td>...</td>\n",
       "      <td>...</td>\n",
       "    </tr>\n",
       "    <tr>\n",
       "      <th>113420</th>\n",
       "      <td>1a29b476fee25c95fbafc67c5ac95cf8</td>\n",
       "      <td>6760e20addcf0121e9d58f2f1ff14298</td>\n",
       "      <td>April</td>\n",
       "      <td>delivered</td>\n",
       "      <td>4.285714</td>\n",
       "    </tr>\n",
       "    <tr>\n",
       "      <th>113421</th>\n",
       "      <td>d52a67c98be1cf6a5c84435bd38d095d</td>\n",
       "      <td>9ec0c8947d973db4f4e8dcf1fbfa8f1b</td>\n",
       "      <td>April</td>\n",
       "      <td>delivered</td>\n",
       "      <td>4.285714</td>\n",
       "    </tr>\n",
       "    <tr>\n",
       "      <th>113422</th>\n",
       "      <td>e9f50caf99f032f0bf3c55141f019d99</td>\n",
       "      <td>fed4434add09a6f332ea398efd656a5c</td>\n",
       "      <td>April</td>\n",
       "      <td>delivered</td>\n",
       "      <td>4.285714</td>\n",
       "    </tr>\n",
       "    <tr>\n",
       "      <th>113423</th>\n",
       "      <td>73c2643a0a458b49f58cea58833b192e</td>\n",
       "      <td>e31ec91cea1ecf97797787471f98a8c2</td>\n",
       "      <td>November</td>\n",
       "      <td>delivered</td>\n",
       "      <td>4.285714</td>\n",
       "    </tr>\n",
       "    <tr>\n",
       "      <th>113424</th>\n",
       "      <td>84732c5050c01db9b23e19ba39899398</td>\n",
       "      <td>28db69209a75e59f20ccbb5c36a20b90</td>\n",
       "      <td>December</td>\n",
       "      <td>delivered</td>\n",
       "      <td>4.428571</td>\n",
       "    </tr>\n",
       "  </tbody>\n",
       "</table>\n",
       "<p>113261 rows × 5 columns</p>\n",
       "</div>"
      ],
      "text/plain": [
       "                      customer_unique_id                          order_id  \\\n",
       "0       861eff4711a542e4b93843c6dd7febb0  00e7ee1b050b8499577073aeb2a297a1   \n",
       "1       290c77bc529b7ac935b93aa66c333dc3  29150127e6685892b6eab3eec79f59c7   \n",
       "2       060e732b5b29e8181a18229c7b0b2b5e  b2059ed67ce144a36e2aa97d2c9e9ad2   \n",
       "3       259dac757896d24d7702b9acbbff3f3c  951670f92359f4fe4a63112aa7306eba   \n",
       "4       345ecd01c38d18a9036ed96c73b8d066  6b7d50bd145f6fc7f33cebabd7e49d0f   \n",
       "...                                  ...                               ...   \n",
       "113420  1a29b476fee25c95fbafc67c5ac95cf8  6760e20addcf0121e9d58f2f1ff14298   \n",
       "113421  d52a67c98be1cf6a5c84435bd38d095d  9ec0c8947d973db4f4e8dcf1fbfa8f1b   \n",
       "113422  e9f50caf99f032f0bf3c55141f019d99  fed4434add09a6f332ea398efd656a5c   \n",
       "113423  73c2643a0a458b49f58cea58833b192e  e31ec91cea1ecf97797787471f98a8c2   \n",
       "113424  84732c5050c01db9b23e19ba39899398  28db69209a75e59f20ccbb5c36a20b90   \n",
       "\n",
       "       order_purchase_timestamp order_status  week_in_mounth  \n",
       "0                           May    delivered        4.428571  \n",
       "1                       January    delivered        4.428571  \n",
       "2                           May    delivered        4.428571  \n",
       "3                         March    delivered        4.428571  \n",
       "4                          July    delivered        4.428571  \n",
       "...                         ...          ...             ...  \n",
       "113420                    April    delivered        4.285714  \n",
       "113421                    April    delivered        4.285714  \n",
       "113422                    April    delivered        4.285714  \n",
       "113423                 November    delivered        4.285714  \n",
       "113424                 December    delivered        4.428571  \n",
       "\n",
       "[113261 rows x 5 columns]"
      ]
     },
     "execution_count": 149,
     "metadata": {},
     "output_type": "execute_result"
    }
   ],
   "source": [
    "customer_items.order_purchase_timestamp = customer_items.order_purchase_timestamp.dt.month_name()\n",
    "customer_items.head(5)"
   ]
  },
  {
   "cell_type": "markdown",
   "metadata": {},
   "source": [
    "Производим группировку по покупателю, месяцу покупки и данными о количестве недель в этом меясце, а также подсчитываем количество заказов. Удаляем пропущенные значения"
   ]
  },
  {
   "cell_type": "code",
   "execution_count": 25,
   "metadata": {},
   "outputs": [],
   "source": [
    "customer_items = customer_items.groupby(['customer_unique_id','order_purchase_timestamp','week_in_mounth'], as_index = False).agg({'order_id':'count'}) \\\n",
    "    .groupby(['customer_unique_id','order_purchase_timestamp','week_in_mounth'], as_index = False).agg({'order_id':'sum'}).dropna()"
   ]
  },
  {
   "cell_type": "markdown",
   "metadata": {},
   "source": [
    "Добавляем столбец со средним значением покупок в неделю по месяцам"
   ]
  },
  {
   "cell_type": "code",
   "execution_count": 26,
   "metadata": {},
   "outputs": [
    {
     "data": {
      "text/html": [
       "<div>\n",
       "<style scoped>\n",
       "    .dataframe tbody tr th:only-of-type {\n",
       "        vertical-align: middle;\n",
       "    }\n",
       "\n",
       "    .dataframe tbody tr th {\n",
       "        vertical-align: top;\n",
       "    }\n",
       "\n",
       "    .dataframe thead th {\n",
       "        text-align: right;\n",
       "    }\n",
       "</style>\n",
       "<table border=\"1\" class=\"dataframe\">\n",
       "  <thead>\n",
       "    <tr style=\"text-align: right;\">\n",
       "      <th></th>\n",
       "      <th>customer_unique_id</th>\n",
       "      <th>order_purchase_timestamp</th>\n",
       "      <th>week_in_mounth</th>\n",
       "      <th>order_id</th>\n",
       "      <th>avg_purchase_in_week</th>\n",
       "    </tr>\n",
       "  </thead>\n",
       "  <tbody>\n",
       "    <tr>\n",
       "      <th>0</th>\n",
       "      <td>0000366f3b9a7992bf8c76cfdf3221e2</td>\n",
       "      <td>May</td>\n",
       "      <td>4.428571</td>\n",
       "      <td>1</td>\n",
       "      <td>0.225806</td>\n",
       "    </tr>\n",
       "    <tr>\n",
       "      <th>1</th>\n",
       "      <td>0000b849f77a49e4a4ce2b2a4ca5be3f</td>\n",
       "      <td>May</td>\n",
       "      <td>4.428571</td>\n",
       "      <td>1</td>\n",
       "      <td>0.225806</td>\n",
       "    </tr>\n",
       "    <tr>\n",
       "      <th>2</th>\n",
       "      <td>0000f46a3911fa3c0805444483337064</td>\n",
       "      <td>March</td>\n",
       "      <td>4.428571</td>\n",
       "      <td>1</td>\n",
       "      <td>0.225806</td>\n",
       "    </tr>\n",
       "    <tr>\n",
       "      <th>3</th>\n",
       "      <td>0000f6ccb0745a6a4b88665a16c9f078</td>\n",
       "      <td>October</td>\n",
       "      <td>4.428571</td>\n",
       "      <td>1</td>\n",
       "      <td>0.225806</td>\n",
       "    </tr>\n",
       "    <tr>\n",
       "      <th>4</th>\n",
       "      <td>0004aac84e0df4da2b147fca70cf8255</td>\n",
       "      <td>November</td>\n",
       "      <td>4.285714</td>\n",
       "      <td>1</td>\n",
       "      <td>0.233333</td>\n",
       "    </tr>\n",
       "    <tr>\n",
       "      <th>...</th>\n",
       "      <td>...</td>\n",
       "      <td>...</td>\n",
       "      <td>...</td>\n",
       "      <td>...</td>\n",
       "      <td>...</td>\n",
       "    </tr>\n",
       "    <tr>\n",
       "      <th>97996</th>\n",
       "      <td>fffcf5a5ff07b0908bd4e2dbc735a684</td>\n",
       "      <td>June</td>\n",
       "      <td>4.285714</td>\n",
       "      <td>2</td>\n",
       "      <td>0.466667</td>\n",
       "    </tr>\n",
       "    <tr>\n",
       "      <th>97997</th>\n",
       "      <td>fffea47cd6d3cc0a88bd621562a9d061</td>\n",
       "      <td>December</td>\n",
       "      <td>4.428571</td>\n",
       "      <td>1</td>\n",
       "      <td>0.225806</td>\n",
       "    </tr>\n",
       "    <tr>\n",
       "      <th>97998</th>\n",
       "      <td>ffff371b4d645b6ecea244b27531430a</td>\n",
       "      <td>February</td>\n",
       "      <td>4.000000</td>\n",
       "      <td>1</td>\n",
       "      <td>0.250000</td>\n",
       "    </tr>\n",
       "    <tr>\n",
       "      <th>97999</th>\n",
       "      <td>ffff5962728ec6157033ef9805bacc48</td>\n",
       "      <td>May</td>\n",
       "      <td>4.428571</td>\n",
       "      <td>1</td>\n",
       "      <td>0.225806</td>\n",
       "    </tr>\n",
       "    <tr>\n",
       "      <th>98000</th>\n",
       "      <td>ffffd2657e2aad2907e67c3e9daecbeb</td>\n",
       "      <td>May</td>\n",
       "      <td>4.428571</td>\n",
       "      <td>1</td>\n",
       "      <td>0.225806</td>\n",
       "    </tr>\n",
       "  </tbody>\n",
       "</table>\n",
       "<p>98001 rows × 5 columns</p>\n",
       "</div>"
      ],
      "text/plain": [
       "                     customer_unique_id order_purchase_timestamp  \\\n",
       "0      0000366f3b9a7992bf8c76cfdf3221e2                      May   \n",
       "1      0000b849f77a49e4a4ce2b2a4ca5be3f                      May   \n",
       "2      0000f46a3911fa3c0805444483337064                    March   \n",
       "3      0000f6ccb0745a6a4b88665a16c9f078                  October   \n",
       "4      0004aac84e0df4da2b147fca70cf8255                 November   \n",
       "...                                 ...                      ...   \n",
       "97996  fffcf5a5ff07b0908bd4e2dbc735a684                     June   \n",
       "97997  fffea47cd6d3cc0a88bd621562a9d061                 December   \n",
       "97998  ffff371b4d645b6ecea244b27531430a                 February   \n",
       "97999  ffff5962728ec6157033ef9805bacc48                      May   \n",
       "98000  ffffd2657e2aad2907e67c3e9daecbeb                      May   \n",
       "\n",
       "       week_in_mounth  order_id  avg_purchase_in_week  \n",
       "0            4.428571         1              0.225806  \n",
       "1            4.428571         1              0.225806  \n",
       "2            4.428571         1              0.225806  \n",
       "3            4.428571         1              0.225806  \n",
       "4            4.285714         1              0.233333  \n",
       "...               ...       ...                   ...  \n",
       "97996        4.285714         2              0.466667  \n",
       "97997        4.428571         1              0.225806  \n",
       "97998        4.000000         1              0.250000  \n",
       "97999        4.428571         1              0.225806  \n",
       "98000        4.428571         1              0.225806  \n",
       "\n",
       "[98001 rows x 5 columns]"
      ]
     },
     "execution_count": 26,
     "metadata": {},
     "output_type": "execute_result"
    }
   ],
   "source": [
    "customer_items['avg_purchase_in_week'] = pd.to_numeric(customer_items.order_id) / customer_items.week_in_mounth\n",
    "customer_items.head(5)"
   ]
  },
  {
   "cell_type": "markdown",
   "metadata": {},
   "source": [
    "## 5. Используя pandas, проведи когортный анализ пользователей. В период с января по декабрь выяви когорту с самым высоким retention на 3й месяц. "
   ]
  },
  {
   "cell_type": "markdown",
   "metadata": {},
   "source": [
    "Метрика Retention означает «удержание пользователей» или же «возвращаемость пользователей».\n",
    "\n",
    "Чтобы рассчитать Retention, вам нужно знать динамику количества активных пользователей определенной когорты по месяцам\n",
    "\n",
    "Например:\n",
    "\n",
    "Взять число новых пользователей в Month 0 (месяц первой покупки нашим покупателем);\n",
    "\n",
    "Взять число активных пользователей в Month N (третий месяц после первой покупки Retention);\n",
    "\n",
    "Разделить второе значение на первое, и результат умножить на 100.\n",
    "\n",
    "Month N Retention = (Users Month N / Users Month 0) * 100"
   ]
  },
  {
   "cell_type": "markdown",
   "metadata": {},
   "source": [
    "Мерджим датафрейм для работы, который будет содержать информацию о заказах и покупателях\n",
    "\n",
    "И оставляем только оплаченные заказы с корректными статусами"
   ]
  },
  {
   "cell_type": "code",
   "execution_count": 241,
   "metadata": {},
   "outputs": [
    {
     "data": {
      "text/html": [
       "<div>\n",
       "<style scoped>\n",
       "    .dataframe tbody tr th:only-of-type {\n",
       "        vertical-align: middle;\n",
       "    }\n",
       "\n",
       "    .dataframe tbody tr th {\n",
       "        vertical-align: top;\n",
       "    }\n",
       "\n",
       "    .dataframe thead th {\n",
       "        text-align: right;\n",
       "    }\n",
       "</style>\n",
       "<table border=\"1\" class=\"dataframe\">\n",
       "  <thead>\n",
       "    <tr style=\"text-align: right;\">\n",
       "      <th></th>\n",
       "      <th>customer_id</th>\n",
       "      <th>customer_unique_id</th>\n",
       "      <th>customer_zip_code_prefix</th>\n",
       "      <th>customer_city</th>\n",
       "      <th>customer_state</th>\n",
       "      <th>order_id</th>\n",
       "      <th>order_status</th>\n",
       "      <th>order_purchase_timestamp</th>\n",
       "      <th>order_approved_at</th>\n",
       "      <th>order_delivered_carrier_date</th>\n",
       "      <th>order_delivered_customer_date</th>\n",
       "      <th>order_estimated_delivery_date</th>\n",
       "    </tr>\n",
       "  </thead>\n",
       "  <tbody>\n",
       "    <tr>\n",
       "      <th>0</th>\n",
       "      <td>06b8999e2fba1a1fbc88172c00ba8bc7</td>\n",
       "      <td>861eff4711a542e4b93843c6dd7febb0</td>\n",
       "      <td>14409</td>\n",
       "      <td>franca</td>\n",
       "      <td>SP</td>\n",
       "      <td>00e7ee1b050b8499577073aeb2a297a1</td>\n",
       "      <td>delivered</td>\n",
       "      <td>2017-05-16 15:05:35</td>\n",
       "      <td>2017-05-16 15:22:12</td>\n",
       "      <td>2017-05-23 10:47:57</td>\n",
       "      <td>2017-05-25 10:35:35</td>\n",
       "      <td>2017-06-05 00:00:00</td>\n",
       "    </tr>\n",
       "    <tr>\n",
       "      <th>1</th>\n",
       "      <td>18955e83d337fd6b2def6b18a428ac77</td>\n",
       "      <td>290c77bc529b7ac935b93aa66c333dc3</td>\n",
       "      <td>9790</td>\n",
       "      <td>sao bernardo do campo</td>\n",
       "      <td>SP</td>\n",
       "      <td>29150127e6685892b6eab3eec79f59c7</td>\n",
       "      <td>delivered</td>\n",
       "      <td>2018-01-12 20:48:24</td>\n",
       "      <td>2018-01-12 20:58:32</td>\n",
       "      <td>2018-01-15 17:14:59</td>\n",
       "      <td>2018-01-29 12:41:19</td>\n",
       "      <td>2018-02-06 00:00:00</td>\n",
       "    </tr>\n",
       "    <tr>\n",
       "      <th>2</th>\n",
       "      <td>4e7b3e00288586ebd08712fdd0374a03</td>\n",
       "      <td>060e732b5b29e8181a18229c7b0b2b5e</td>\n",
       "      <td>1151</td>\n",
       "      <td>sao paulo</td>\n",
       "      <td>SP</td>\n",
       "      <td>b2059ed67ce144a36e2aa97d2c9e9ad2</td>\n",
       "      <td>delivered</td>\n",
       "      <td>2018-05-19 16:07:45</td>\n",
       "      <td>2018-05-20 16:19:10</td>\n",
       "      <td>2018-06-11 14:31:00</td>\n",
       "      <td>2018-06-14 17:58:51</td>\n",
       "      <td>2018-06-13 00:00:00</td>\n",
       "    </tr>\n",
       "    <tr>\n",
       "      <th>3</th>\n",
       "      <td>b2b6027bc5c5109e529d4dc6358b12c3</td>\n",
       "      <td>259dac757896d24d7702b9acbbff3f3c</td>\n",
       "      <td>8775</td>\n",
       "      <td>mogi das cruzes</td>\n",
       "      <td>SP</td>\n",
       "      <td>951670f92359f4fe4a63112aa7306eba</td>\n",
       "      <td>delivered</td>\n",
       "      <td>2018-03-13 16:06:38</td>\n",
       "      <td>2018-03-13 17:29:19</td>\n",
       "      <td>2018-03-27 23:22:42</td>\n",
       "      <td>2018-03-28 16:04:25</td>\n",
       "      <td>2018-04-10 00:00:00</td>\n",
       "    </tr>\n",
       "    <tr>\n",
       "      <th>4</th>\n",
       "      <td>4f2d8ab171c80ec8364f7c12e35b23ad</td>\n",
       "      <td>345ecd01c38d18a9036ed96c73b8d066</td>\n",
       "      <td>13056</td>\n",
       "      <td>campinas</td>\n",
       "      <td>SP</td>\n",
       "      <td>6b7d50bd145f6fc7f33cebabd7e49d0f</td>\n",
       "      <td>delivered</td>\n",
       "      <td>2018-07-29 09:51:30</td>\n",
       "      <td>2018-07-29 10:10:09</td>\n",
       "      <td>2018-07-30 15:16:00</td>\n",
       "      <td>2018-08-09 20:55:48</td>\n",
       "      <td>2018-08-15 00:00:00</td>\n",
       "    </tr>\n",
       "  </tbody>\n",
       "</table>\n",
       "</div>"
      ],
      "text/plain": [
       "                        customer_id                customer_unique_id  \\\n",
       "0  06b8999e2fba1a1fbc88172c00ba8bc7  861eff4711a542e4b93843c6dd7febb0   \n",
       "1  18955e83d337fd6b2def6b18a428ac77  290c77bc529b7ac935b93aa66c333dc3   \n",
       "2  4e7b3e00288586ebd08712fdd0374a03  060e732b5b29e8181a18229c7b0b2b5e   \n",
       "3  b2b6027bc5c5109e529d4dc6358b12c3  259dac757896d24d7702b9acbbff3f3c   \n",
       "4  4f2d8ab171c80ec8364f7c12e35b23ad  345ecd01c38d18a9036ed96c73b8d066   \n",
       "\n",
       "   customer_zip_code_prefix          customer_city customer_state  \\\n",
       "0                     14409                 franca             SP   \n",
       "1                      9790  sao bernardo do campo             SP   \n",
       "2                      1151              sao paulo             SP   \n",
       "3                      8775        mogi das cruzes             SP   \n",
       "4                     13056               campinas             SP   \n",
       "\n",
       "                           order_id order_status order_purchase_timestamp  \\\n",
       "0  00e7ee1b050b8499577073aeb2a297a1    delivered      2017-05-16 15:05:35   \n",
       "1  29150127e6685892b6eab3eec79f59c7    delivered      2018-01-12 20:48:24   \n",
       "2  b2059ed67ce144a36e2aa97d2c9e9ad2    delivered      2018-05-19 16:07:45   \n",
       "3  951670f92359f4fe4a63112aa7306eba    delivered      2018-03-13 16:06:38   \n",
       "4  6b7d50bd145f6fc7f33cebabd7e49d0f    delivered      2018-07-29 09:51:30   \n",
       "\n",
       "     order_approved_at order_delivered_carrier_date  \\\n",
       "0  2017-05-16 15:22:12          2017-05-23 10:47:57   \n",
       "1  2018-01-12 20:58:32          2018-01-15 17:14:59   \n",
       "2  2018-05-20 16:19:10          2018-06-11 14:31:00   \n",
       "3  2018-03-13 17:29:19          2018-03-27 23:22:42   \n",
       "4  2018-07-29 10:10:09          2018-07-30 15:16:00   \n",
       "\n",
       "  order_delivered_customer_date order_estimated_delivery_date  \n",
       "0           2017-05-25 10:35:35           2017-06-05 00:00:00  \n",
       "1           2018-01-29 12:41:19           2018-02-06 00:00:00  \n",
       "2           2018-06-14 17:58:51           2018-06-13 00:00:00  \n",
       "3           2018-03-28 16:04:25           2018-04-10 00:00:00  \n",
       "4           2018-08-09 20:55:48           2018-08-15 00:00:00  "
      ]
     },
     "execution_count": 241,
     "metadata": {},
     "output_type": "execute_result"
    }
   ],
   "source": [
    "customer_orders=customer.merge(orders, on='customer_id', how='left') \\\n",
    "    .dropna(subset=['order_approved_at']) \\\n",
    "    .query('order_status != \"approved\"') \\\n",
    "    .dropna(axis='index', how='any', subset=['order_purchase_timestamp'])\n",
    "customer_orders.head(5)"
   ]
  },
  {
   "cell_type": "markdown",
   "metadata": {},
   "source": [
    "Приводим колонку со временем оформления заказа к формату даты и оставляем только год-месяц"
   ]
  },
  {
   "cell_type": "code",
   "execution_count": 242,
   "metadata": {},
   "outputs": [],
   "source": [
    "customer_orders.order_purchase_timestamp = pd.to_datetime(customer_orders.order_purchase_timestamp).dt.strftime('%Y-%m')"
   ]
  },
  {
   "cell_type": "markdown",
   "metadata": {},
   "source": [
    "Проверим период, за который были предоставлены данные"
   ]
  },
  {
   "cell_type": "code",
   "execution_count": 243,
   "metadata": {},
   "outputs": [
    {
     "data": {
      "text/plain": [
       "<matplotlib.axes._subplots.AxesSubplot at 0x7f6aae909c50>"
      ]
     },
     "execution_count": 243,
     "metadata": {},
     "output_type": "execute_result"
    },
    {
     "data": {
      "image/png": "[encoded data removed]",
      "text/plain": [
       "<Figure size 1440x864 with 1 Axes>"
      ]
     },
     "metadata": {
      "needs_background": "light"
     },
     "output_type": "display_data"
    }
   ],
   "source": [
    "Peruiod = customer_orders.groupby('order_purchase_timestamp',as_index=False).agg({'customer_id':'count'})\n",
    "line,ax = plt.subplots(figsize=(20,12))\n",
    "sns.lineplot(data=Peruiod, x='order_purchase_timestamp', y='customer_id')"
   ]
  },
  {
   "cell_type": "markdown",
   "metadata": {},
   "source": [
    "Т.к. в задании необходимо выявить когорту с января по декабрь, для анализа мы можем использовать только 2017, потому что 2016 и 2018 гг. не содержат необходимых для расчета полных данных."
   ]
  },
  {
   "cell_type": "markdown",
   "metadata": {},
   "source": [
    "Создадим столбец с месяцем первого заказа 'order_purchase_timestamp_first'\n",
    "\n",
    "Для этого сгруппируем данные по уникальным id покупателей, выберем самые ранние даты покупок, вмерджим результат в основную таблицу и сменим названия колонок"
   ]
  },
  {
   "cell_type": "code",
   "execution_count": 244,
   "metadata": {},
   "outputs": [],
   "source": [
    "customer_orders =customer_orders.groupby('customer_unique_id', as_index=False) \\\n",
    "    .agg({'order_purchase_timestamp': 'min'}) \\\n",
    "    .merge(customer_orders, on='customer_unique_id', how='right') \\\n",
    "    .rename(columns={'order_purchase_timestamp_x':'order_purchase_timestamp_first','order_purchase_timestamp_y':'order_purchase_timestamp'})"
   ]
  },
  {
   "cell_type": "code",
   "execution_count": 245,
   "metadata": {},
   "outputs": [
    {
     "data": {
      "text/html": [
       "<div>\n",
       "<style scoped>\n",
       "    .dataframe tbody tr th:only-of-type {\n",
       "        vertical-align: middle;\n",
       "    }\n",
       "\n",
       "    .dataframe tbody tr th {\n",
       "        vertical-align: top;\n",
       "    }\n",
       "\n",
       "    .dataframe thead th {\n",
       "        text-align: right;\n",
       "    }\n",
       "</style>\n",
       "<table border=\"1\" class=\"dataframe\">\n",
       "  <thead>\n",
       "    <tr style=\"text-align: right;\">\n",
       "      <th></th>\n",
       "      <th>customer_unique_id</th>\n",
       "      <th>order_purchase_timestamp_first</th>\n",
       "      <th>customer_id</th>\n",
       "      <th>customer_zip_code_prefix</th>\n",
       "      <th>customer_city</th>\n",
       "      <th>customer_state</th>\n",
       "      <th>order_id</th>\n",
       "      <th>order_status</th>\n",
       "      <th>order_purchase_timestamp</th>\n",
       "      <th>order_approved_at</th>\n",
       "      <th>order_delivered_carrier_date</th>\n",
       "      <th>order_delivered_customer_date</th>\n",
       "      <th>order_estimated_delivery_date</th>\n",
       "    </tr>\n",
       "  </thead>\n",
       "  <tbody>\n",
       "    <tr>\n",
       "      <th>0</th>\n",
       "      <td>861eff4711a542e4b93843c6dd7febb0</td>\n",
       "      <td>2017-05</td>\n",
       "      <td>06b8999e2fba1a1fbc88172c00ba8bc7</td>\n",
       "      <td>14409</td>\n",
       "      <td>franca</td>\n",
       "      <td>SP</td>\n",
       "      <td>00e7ee1b050b8499577073aeb2a297a1</td>\n",
       "      <td>delivered</td>\n",
       "      <td>2017-05</td>\n",
       "      <td>2017-05-16 15:22:12</td>\n",
       "      <td>2017-05-23 10:47:57</td>\n",
       "      <td>2017-05-25 10:35:35</td>\n",
       "      <td>2017-06-05 00:00:00</td>\n",
       "    </tr>\n",
       "    <tr>\n",
       "      <th>1</th>\n",
       "      <td>290c77bc529b7ac935b93aa66c333dc3</td>\n",
       "      <td>2018-01</td>\n",
       "      <td>18955e83d337fd6b2def6b18a428ac77</td>\n",
       "      <td>9790</td>\n",
       "      <td>sao bernardo do campo</td>\n",
       "      <td>SP</td>\n",
       "      <td>29150127e6685892b6eab3eec79f59c7</td>\n",
       "      <td>delivered</td>\n",
       "      <td>2018-01</td>\n",
       "      <td>2018-01-12 20:58:32</td>\n",
       "      <td>2018-01-15 17:14:59</td>\n",
       "      <td>2018-01-29 12:41:19</td>\n",
       "      <td>2018-02-06 00:00:00</td>\n",
       "    </tr>\n",
       "    <tr>\n",
       "      <th>2</th>\n",
       "      <td>060e732b5b29e8181a18229c7b0b2b5e</td>\n",
       "      <td>2018-05</td>\n",
       "      <td>4e7b3e00288586ebd08712fdd0374a03</td>\n",
       "      <td>1151</td>\n",
       "      <td>sao paulo</td>\n",
       "      <td>SP</td>\n",
       "      <td>b2059ed67ce144a36e2aa97d2c9e9ad2</td>\n",
       "      <td>delivered</td>\n",
       "      <td>2018-05</td>\n",
       "      <td>2018-05-20 16:19:10</td>\n",
       "      <td>2018-06-11 14:31:00</td>\n",
       "      <td>2018-06-14 17:58:51</td>\n",
       "      <td>2018-06-13 00:00:00</td>\n",
       "    </tr>\n",
       "  </tbody>\n",
       "</table>\n",
       "</div>"
      ],
      "text/plain": [
       "                 customer_unique_id order_purchase_timestamp_first  \\\n",
       "0  861eff4711a542e4b93843c6dd7febb0                        2017-05   \n",
       "1  290c77bc529b7ac935b93aa66c333dc3                        2018-01   \n",
       "2  060e732b5b29e8181a18229c7b0b2b5e                        2018-05   \n",
       "\n",
       "                        customer_id  customer_zip_code_prefix  \\\n",
       "0  06b8999e2fba1a1fbc88172c00ba8bc7                     14409   \n",
       "1  18955e83d337fd6b2def6b18a428ac77                      9790   \n",
       "2  4e7b3e00288586ebd08712fdd0374a03                      1151   \n",
       "\n",
       "           customer_city customer_state                          order_id  \\\n",
       "0                 franca             SP  00e7ee1b050b8499577073aeb2a297a1   \n",
       "1  sao bernardo do campo             SP  29150127e6685892b6eab3eec79f59c7   \n",
       "2              sao paulo             SP  b2059ed67ce144a36e2aa97d2c9e9ad2   \n",
       "\n",
       "  order_status order_purchase_timestamp    order_approved_at  \\\n",
       "0    delivered                  2017-05  2017-05-16 15:22:12   \n",
       "1    delivered                  2018-01  2018-01-12 20:58:32   \n",
       "2    delivered                  2018-05  2018-05-20 16:19:10   \n",
       "\n",
       "  order_delivered_carrier_date order_delivered_customer_date  \\\n",
       "0          2017-05-23 10:47:57           2017-05-25 10:35:35   \n",
       "1          2018-01-15 17:14:59           2018-01-29 12:41:19   \n",
       "2          2018-06-11 14:31:00           2018-06-14 17:58:51   \n",
       "\n",
       "  order_estimated_delivery_date  \n",
       "0           2017-06-05 00:00:00  \n",
       "1           2018-02-06 00:00:00  \n",
       "2           2018-06-13 00:00:00  "
      ]
     },
     "execution_count": 245,
     "metadata": {},
     "output_type": "execute_result"
    }
   ],
   "source": [
    "customer_orders.head(3)"
   ]
  },
  {
   "cell_type": "markdown",
   "metadata": {},
   "source": [
    "Оставим только нужные для расчета колонки "
   ]
  },
  {
   "cell_type": "code",
   "execution_count": 246,
   "metadata": {},
   "outputs": [],
   "source": [
    "customer_orders = customer_orders[{'customer_unique_id','order_purchase_timestamp_first','order_purchase_timestamp'}]"
   ]
  },
  {
   "cell_type": "code",
   "execution_count": 247,
   "metadata": {},
   "outputs": [
    {
     "data": {
      "text/html": [
       "<div>\n",
       "<style scoped>\n",
       "    .dataframe tbody tr th:only-of-type {\n",
       "        vertical-align: middle;\n",
       "    }\n",
       "\n",
       "    .dataframe tbody tr th {\n",
       "        vertical-align: top;\n",
       "    }\n",
       "\n",
       "    .dataframe thead th {\n",
       "        text-align: right;\n",
       "    }\n",
       "</style>\n",
       "<table border=\"1\" class=\"dataframe\">\n",
       "  <thead>\n",
       "    <tr style=\"text-align: right;\">\n",
       "      <th></th>\n",
       "      <th>customer_unique_id</th>\n",
       "      <th>order_purchase_timestamp</th>\n",
       "      <th>order_purchase_timestamp_first</th>\n",
       "    </tr>\n",
       "  </thead>\n",
       "  <tbody>\n",
       "    <tr>\n",
       "      <th>0</th>\n",
       "      <td>861eff4711a542e4b93843c6dd7febb0</td>\n",
       "      <td>2017-05</td>\n",
       "      <td>2017-05</td>\n",
       "    </tr>\n",
       "    <tr>\n",
       "      <th>1</th>\n",
       "      <td>290c77bc529b7ac935b93aa66c333dc3</td>\n",
       "      <td>2018-01</td>\n",
       "      <td>2018-01</td>\n",
       "    </tr>\n",
       "    <tr>\n",
       "      <th>2</th>\n",
       "      <td>060e732b5b29e8181a18229c7b0b2b5e</td>\n",
       "      <td>2018-05</td>\n",
       "      <td>2018-05</td>\n",
       "    </tr>\n",
       "    <tr>\n",
       "      <th>3</th>\n",
       "      <td>259dac757896d24d7702b9acbbff3f3c</td>\n",
       "      <td>2018-03</td>\n",
       "      <td>2018-03</td>\n",
       "    </tr>\n",
       "    <tr>\n",
       "      <th>4</th>\n",
       "      <td>345ecd01c38d18a9036ed96c73b8d066</td>\n",
       "      <td>2018-07</td>\n",
       "      <td>2018-07</td>\n",
       "    </tr>\n",
       "    <tr>\n",
       "      <th>...</th>\n",
       "      <td>...</td>\n",
       "      <td>...</td>\n",
       "      <td>...</td>\n",
       "    </tr>\n",
       "    <tr>\n",
       "      <th>99274</th>\n",
       "      <td>1a29b476fee25c95fbafc67c5ac95cf8</td>\n",
       "      <td>2018-04</td>\n",
       "      <td>2018-04</td>\n",
       "    </tr>\n",
       "    <tr>\n",
       "      <th>99275</th>\n",
       "      <td>d52a67c98be1cf6a5c84435bd38d095d</td>\n",
       "      <td>2018-04</td>\n",
       "      <td>2018-04</td>\n",
       "    </tr>\n",
       "    <tr>\n",
       "      <th>99276</th>\n",
       "      <td>e9f50caf99f032f0bf3c55141f019d99</td>\n",
       "      <td>2018-04</td>\n",
       "      <td>2018-04</td>\n",
       "    </tr>\n",
       "    <tr>\n",
       "      <th>99277</th>\n",
       "      <td>73c2643a0a458b49f58cea58833b192e</td>\n",
       "      <td>2017-11</td>\n",
       "      <td>2017-11</td>\n",
       "    </tr>\n",
       "    <tr>\n",
       "      <th>99278</th>\n",
       "      <td>84732c5050c01db9b23e19ba39899398</td>\n",
       "      <td>2017-12</td>\n",
       "      <td>2017-12</td>\n",
       "    </tr>\n",
       "  </tbody>\n",
       "</table>\n",
       "<p>99279 rows × 3 columns</p>\n",
       "</div>"
      ],
      "text/plain": [
       "                     customer_unique_id order_purchase_timestamp  \\\n",
       "0      861eff4711a542e4b93843c6dd7febb0                  2017-05   \n",
       "1      290c77bc529b7ac935b93aa66c333dc3                  2018-01   \n",
       "2      060e732b5b29e8181a18229c7b0b2b5e                  2018-05   \n",
       "3      259dac757896d24d7702b9acbbff3f3c                  2018-03   \n",
       "4      345ecd01c38d18a9036ed96c73b8d066                  2018-07   \n",
       "...                                 ...                      ...   \n",
       "99274  1a29b476fee25c95fbafc67c5ac95cf8                  2018-04   \n",
       "99275  d52a67c98be1cf6a5c84435bd38d095d                  2018-04   \n",
       "99276  e9f50caf99f032f0bf3c55141f019d99                  2018-04   \n",
       "99277  73c2643a0a458b49f58cea58833b192e                  2017-11   \n",
       "99278  84732c5050c01db9b23e19ba39899398                  2017-12   \n",
       "\n",
       "      order_purchase_timestamp_first  \n",
       "0                            2017-05  \n",
       "1                            2018-01  \n",
       "2                            2018-05  \n",
       "3                            2018-03  \n",
       "4                            2018-07  \n",
       "...                              ...  \n",
       "99274                        2018-04  \n",
       "99275                        2018-04  \n",
       "99276                        2018-04  \n",
       "99277                        2017-11  \n",
       "99278                        2017-12  \n",
       "\n",
       "[99279 rows x 3 columns]"
      ]
     },
     "execution_count": 247,
     "metadata": {},
     "output_type": "execute_result"
    }
   ],
   "source": [
    "customer_orders.head(5)"
   ]
  },
  {
   "cell_type": "markdown",
   "metadata": {},
   "source": [
    "Определим общее кол-во пользователей, совершивших покупку по месяцам и добавим этот столбец к таблице с предыдущего шага"
   ]
  },
  {
   "cell_type": "code",
   "execution_count": 248,
   "metadata": {},
   "outputs": [],
   "source": [
    "general_user=customer_orders.groupby('order_purchase_timestamp_first', as_index=False)  \\\n",
    "                    .agg({'customer_unique_id':'nunique'})  \\\n",
    "                    .rename(columns={'customer_unique_id':'general_user'})\n",
    "customer_orders=customer_orders.merge(general_user, how='left', on='order_purchase_timestamp_first')"
   ]
  },
  {
   "cell_type": "code",
   "execution_count": 249,
   "metadata": {},
   "outputs": [
    {
     "data": {
      "text/html": [
       "<div>\n",
       "<style scoped>\n",
       "    .dataframe tbody tr th:only-of-type {\n",
       "        vertical-align: middle;\n",
       "    }\n",
       "\n",
       "    .dataframe tbody tr th {\n",
       "        vertical-align: top;\n",
       "    }\n",
       "\n",
       "    .dataframe thead th {\n",
       "        text-align: right;\n",
       "    }\n",
       "</style>\n",
       "<table border=\"1\" class=\"dataframe\">\n",
       "  <thead>\n",
       "    <tr style=\"text-align: right;\">\n",
       "      <th></th>\n",
       "      <th>customer_unique_id</th>\n",
       "      <th>order_purchase_timestamp</th>\n",
       "      <th>order_purchase_timestamp_first</th>\n",
       "      <th>general_user</th>\n",
       "    </tr>\n",
       "  </thead>\n",
       "  <tbody>\n",
       "    <tr>\n",
       "      <th>0</th>\n",
       "      <td>861eff4711a542e4b93843c6dd7febb0</td>\n",
       "      <td>2017-05</td>\n",
       "      <td>2017-05</td>\n",
       "      <td>3590</td>\n",
       "    </tr>\n",
       "    <tr>\n",
       "      <th>1</th>\n",
       "      <td>290c77bc529b7ac935b93aa66c333dc3</td>\n",
       "      <td>2018-01</td>\n",
       "      <td>2018-01</td>\n",
       "      <td>7024</td>\n",
       "    </tr>\n",
       "    <tr>\n",
       "      <th>2</th>\n",
       "      <td>060e732b5b29e8181a18229c7b0b2b5e</td>\n",
       "      <td>2018-05</td>\n",
       "      <td>2018-05</td>\n",
       "      <td>6621</td>\n",
       "    </tr>\n",
       "    <tr>\n",
       "      <th>3</th>\n",
       "      <td>259dac757896d24d7702b9acbbff3f3c</td>\n",
       "      <td>2018-03</td>\n",
       "      <td>2018-03</td>\n",
       "      <td>6965</td>\n",
       "    </tr>\n",
       "    <tr>\n",
       "      <th>4</th>\n",
       "      <td>345ecd01c38d18a9036ed96c73b8d066</td>\n",
       "      <td>2018-07</td>\n",
       "      <td>2018-07</td>\n",
       "      <td>6071</td>\n",
       "    </tr>\n",
       "  </tbody>\n",
       "</table>\n",
       "</div>"
      ],
      "text/plain": [
       "                 customer_unique_id order_purchase_timestamp  \\\n",
       "0  861eff4711a542e4b93843c6dd7febb0                  2017-05   \n",
       "1  290c77bc529b7ac935b93aa66c333dc3                  2018-01   \n",
       "2  060e732b5b29e8181a18229c7b0b2b5e                  2018-05   \n",
       "3  259dac757896d24d7702b9acbbff3f3c                  2018-03   \n",
       "4  345ecd01c38d18a9036ed96c73b8d066                  2018-07   \n",
       "\n",
       "  order_purchase_timestamp_first  general_user  \n",
       "0                        2017-05          3590  \n",
       "1                        2018-01          7024  \n",
       "2                        2018-05          6621  \n",
       "3                        2018-03          6965  \n",
       "4                        2018-07          6071  "
      ]
     },
     "execution_count": 249,
     "metadata": {},
     "output_type": "execute_result"
    }
   ],
   "source": [
    "customer_orders.head(5)"
   ]
  },
  {
   "cell_type": "markdown",
   "metadata": {},
   "source": [
    "Создадим колонку с количеством возвратившихся пользователей при помощи группировки и оставим покупки, сделанные в 2017 году"
   ]
  },
  {
   "cell_type": "code",
   "execution_count": 250,
   "metadata": {},
   "outputs": [
    {
     "data": {
      "text/html": [
       "<div>\n",
       "<style scoped>\n",
       "    .dataframe tbody tr th:only-of-type {\n",
       "        vertical-align: middle;\n",
       "    }\n",
       "\n",
       "    .dataframe tbody tr th {\n",
       "        vertical-align: top;\n",
       "    }\n",
       "\n",
       "    .dataframe thead th {\n",
       "        text-align: right;\n",
       "    }\n",
       "</style>\n",
       "<table border=\"1\" class=\"dataframe\">\n",
       "  <thead>\n",
       "    <tr style=\"text-align: right;\">\n",
       "      <th></th>\n",
       "      <th></th>\n",
       "      <th>users_of_cohorts</th>\n",
       "      <th>general_user</th>\n",
       "    </tr>\n",
       "    <tr>\n",
       "      <th>order_purchase_timestamp_first</th>\n",
       "      <th>order_purchase_timestamp</th>\n",
       "      <th></th>\n",
       "      <th></th>\n",
       "    </tr>\n",
       "  </thead>\n",
       "  <tbody>\n",
       "    <tr>\n",
       "      <th rowspan=\"5\" valign=\"top\">2017-01</th>\n",
       "      <th>2017-01</th>\n",
       "      <td>762</td>\n",
       "      <td>762</td>\n",
       "    </tr>\n",
       "    <tr>\n",
       "      <th>2017-02</th>\n",
       "      <td>3</td>\n",
       "      <td>762</td>\n",
       "    </tr>\n",
       "    <tr>\n",
       "      <th>2017-03</th>\n",
       "      <td>2</td>\n",
       "      <td>762</td>\n",
       "    </tr>\n",
       "    <tr>\n",
       "      <th>2017-04</th>\n",
       "      <td>1</td>\n",
       "      <td>762</td>\n",
       "    </tr>\n",
       "    <tr>\n",
       "      <th>2017-05</th>\n",
       "      <td>3</td>\n",
       "      <td>762</td>\n",
       "    </tr>\n",
       "  </tbody>\n",
       "</table>\n",
       "</div>"
      ],
      "text/plain": [
       "                                                         users_of_cohorts  \\\n",
       "order_purchase_timestamp_first order_purchase_timestamp                     \n",
       "2017-01                        2017-01                                762   \n",
       "                               2017-02                                  3   \n",
       "                               2017-03                                  2   \n",
       "                               2017-04                                  1   \n",
       "                               2017-05                                  3   \n",
       "\n",
       "                                                         general_user  \n",
       "order_purchase_timestamp_first order_purchase_timestamp                \n",
       "2017-01                        2017-01                            762  \n",
       "                               2017-02                            762  \n",
       "                               2017-03                            762  \n",
       "                               2017-04                            762  \n",
       "                               2017-05                            762  "
      ]
     },
     "execution_count": 250,
     "metadata": {},
     "output_type": "execute_result"
    }
   ],
   "source": [
    "cohorts=customer_orders.groupby(['order_purchase_timestamp_first', 'order_purchase_timestamp'])  \\\n",
    "                .agg({'customer_unique_id':'nunique', 'general_user':'max'})  \\\n",
    "                .rename(columns={'customer_unique_id': 'users_of_cohorts'})\n",
    "\n",
    "\n",
    "cohorts=cohorts.query('\"2017-01\" <= order_purchase_timestamp_first <= \"2017-12\"')\n",
    "cohorts.head()"
   ]
  },
  {
   "cell_type": "markdown",
   "metadata": {},
   "source": [
    "Избавимся от индексов"
   ]
  },
  {
   "cell_type": "code",
   "execution_count": 251,
   "metadata": {},
   "outputs": [
    {
     "data": {
      "text/html": [
       "<div>\n",
       "<style scoped>\n",
       "    .dataframe tbody tr th:only-of-type {\n",
       "        vertical-align: middle;\n",
       "    }\n",
       "\n",
       "    .dataframe tbody tr th {\n",
       "        vertical-align: top;\n",
       "    }\n",
       "\n",
       "    .dataframe thead th {\n",
       "        text-align: right;\n",
       "    }\n",
       "</style>\n",
       "<table border=\"1\" class=\"dataframe\">\n",
       "  <thead>\n",
       "    <tr style=\"text-align: right;\">\n",
       "      <th></th>\n",
       "      <th>order_purchase_timestamp_first</th>\n",
       "      <th>order_purchase_timestamp</th>\n",
       "      <th>users_of_cohorts</th>\n",
       "      <th>general_user</th>\n",
       "    </tr>\n",
       "  </thead>\n",
       "  <tbody>\n",
       "    <tr>\n",
       "      <th>0</th>\n",
       "      <td>2017-01</td>\n",
       "      <td>2017-01</td>\n",
       "      <td>762</td>\n",
       "      <td>762</td>\n",
       "    </tr>\n",
       "    <tr>\n",
       "      <th>1</th>\n",
       "      <td>2017-01</td>\n",
       "      <td>2017-02</td>\n",
       "      <td>3</td>\n",
       "      <td>762</td>\n",
       "    </tr>\n",
       "    <tr>\n",
       "      <th>2</th>\n",
       "      <td>2017-01</td>\n",
       "      <td>2017-03</td>\n",
       "      <td>2</td>\n",
       "      <td>762</td>\n",
       "    </tr>\n",
       "    <tr>\n",
       "      <th>3</th>\n",
       "      <td>2017-01</td>\n",
       "      <td>2017-04</td>\n",
       "      <td>1</td>\n",
       "      <td>762</td>\n",
       "    </tr>\n",
       "    <tr>\n",
       "      <th>4</th>\n",
       "      <td>2017-01</td>\n",
       "      <td>2017-05</td>\n",
       "      <td>3</td>\n",
       "      <td>762</td>\n",
       "    </tr>\n",
       "  </tbody>\n",
       "</table>\n",
       "</div>"
      ],
      "text/plain": [
       "  order_purchase_timestamp_first order_purchase_timestamp  users_of_cohorts  \\\n",
       "0                        2017-01                  2017-01               762   \n",
       "1                        2017-01                  2017-02                 3   \n",
       "2                        2017-01                  2017-03                 2   \n",
       "3                        2017-01                  2017-04                 1   \n",
       "4                        2017-01                  2017-05                 3   \n",
       "\n",
       "   general_user  \n",
       "0           762  \n",
       "1           762  \n",
       "2           762  \n",
       "3           762  \n",
       "4           762  "
      ]
     },
     "execution_count": 251,
     "metadata": {},
     "output_type": "execute_result"
    }
   ],
   "source": [
    "cohorts.reset_index(inplace=True)\n",
    "cohorts.head()"
   ]
  },
  {
   "cell_type": "markdown",
   "metadata": {},
   "source": [
    "Теперь посчитаем retention: users_of_cohorts(количество возвратившихся пользователей)/general_user(кол-во новых пользователей сделавших покупку в начале периода)*100 %"
   ]
  },
  {
   "cell_type": "code",
   "execution_count": 252,
   "metadata": {},
   "outputs": [
    {
     "data": {
      "text/html": [
       "<div>\n",
       "<style scoped>\n",
       "    .dataframe tbody tr th:only-of-type {\n",
       "        vertical-align: middle;\n",
       "    }\n",
       "\n",
       "    .dataframe tbody tr th {\n",
       "        vertical-align: top;\n",
       "    }\n",
       "\n",
       "    .dataframe thead th {\n",
       "        text-align: right;\n",
       "    }\n",
       "</style>\n",
       "<table border=\"1\" class=\"dataframe\">\n",
       "  <thead>\n",
       "    <tr style=\"text-align: right;\">\n",
       "      <th></th>\n",
       "      <th>order_purchase_timestamp_first</th>\n",
       "      <th>order_purchase_timestamp</th>\n",
       "      <th>users_of_cohorts</th>\n",
       "      <th>general_user</th>\n",
       "      <th>CRR</th>\n",
       "    </tr>\n",
       "  </thead>\n",
       "  <tbody>\n",
       "    <tr>\n",
       "      <th>0</th>\n",
       "      <td>2017-01</td>\n",
       "      <td>2017-01</td>\n",
       "      <td>762</td>\n",
       "      <td>762</td>\n",
       "      <td>100.00</td>\n",
       "    </tr>\n",
       "    <tr>\n",
       "      <th>1</th>\n",
       "      <td>2017-01</td>\n",
       "      <td>2017-02</td>\n",
       "      <td>3</td>\n",
       "      <td>762</td>\n",
       "      <td>0.39</td>\n",
       "    </tr>\n",
       "    <tr>\n",
       "      <th>2</th>\n",
       "      <td>2017-01</td>\n",
       "      <td>2017-03</td>\n",
       "      <td>2</td>\n",
       "      <td>762</td>\n",
       "      <td>0.26</td>\n",
       "    </tr>\n",
       "    <tr>\n",
       "      <th>3</th>\n",
       "      <td>2017-01</td>\n",
       "      <td>2017-04</td>\n",
       "      <td>1</td>\n",
       "      <td>762</td>\n",
       "      <td>0.13</td>\n",
       "    </tr>\n",
       "    <tr>\n",
       "      <th>4</th>\n",
       "      <td>2017-01</td>\n",
       "      <td>2017-05</td>\n",
       "      <td>3</td>\n",
       "      <td>762</td>\n",
       "      <td>0.39</td>\n",
       "    </tr>\n",
       "  </tbody>\n",
       "</table>\n",
       "</div>"
      ],
      "text/plain": [
       "  order_purchase_timestamp_first order_purchase_timestamp  users_of_cohorts  \\\n",
       "0                        2017-01                  2017-01               762   \n",
       "1                        2017-01                  2017-02                 3   \n",
       "2                        2017-01                  2017-03                 2   \n",
       "3                        2017-01                  2017-04                 1   \n",
       "4                        2017-01                  2017-05                 3   \n",
       "\n",
       "   general_user     CRR  \n",
       "0           762  100.00  \n",
       "1           762    0.39  \n",
       "2           762    0.26  \n",
       "3           762    0.13  \n",
       "4           762    0.39  "
      ]
     },
     "execution_count": 252,
     "metadata": {},
     "output_type": "execute_result"
    }
   ],
   "source": [
    "cohorts['CRR']=round(cohorts.users_of_cohorts/cohorts.general_user*100, 2)\n",
    "cohorts.head()"
   ]
  },
  {
   "cell_type": "markdown",
   "metadata": {},
   "source": [
    "Добавим порядковое значение периода когорты (месяца, когда мы ждем повторной покупки) для каждой когорты"
   ]
  },
  {
   "cell_type": "code",
   "execution_count": 253,
   "metadata": {},
   "outputs": [
    {
     "data": {
      "text/html": [
       "<div>\n",
       "<style scoped>\n",
       "    .dataframe tbody tr th:only-of-type {\n",
       "        vertical-align: middle;\n",
       "    }\n",
       "\n",
       "    .dataframe tbody tr th {\n",
       "        vertical-align: top;\n",
       "    }\n",
       "\n",
       "    .dataframe thead th {\n",
       "        text-align: right;\n",
       "    }\n",
       "</style>\n",
       "<table border=\"1\" class=\"dataframe\">\n",
       "  <thead>\n",
       "    <tr style=\"text-align: right;\">\n",
       "      <th></th>\n",
       "      <th>order_purchase_timestamp_first</th>\n",
       "      <th>order_purchase_timestamp</th>\n",
       "      <th>users_of_cohorts</th>\n",
       "      <th>general_user</th>\n",
       "      <th>CRR</th>\n",
       "      <th>cohort_period</th>\n",
       "    </tr>\n",
       "  </thead>\n",
       "  <tbody>\n",
       "    <tr>\n",
       "      <th>0</th>\n",
       "      <td>2017-01</td>\n",
       "      <td>2017-01</td>\n",
       "      <td>762</td>\n",
       "      <td>762</td>\n",
       "      <td>100.00</td>\n",
       "      <td>1</td>\n",
       "    </tr>\n",
       "    <tr>\n",
       "      <th>1</th>\n",
       "      <td>2017-01</td>\n",
       "      <td>2017-02</td>\n",
       "      <td>3</td>\n",
       "      <td>762</td>\n",
       "      <td>0.39</td>\n",
       "      <td>2</td>\n",
       "    </tr>\n",
       "    <tr>\n",
       "      <th>2</th>\n",
       "      <td>2017-01</td>\n",
       "      <td>2017-03</td>\n",
       "      <td>2</td>\n",
       "      <td>762</td>\n",
       "      <td>0.26</td>\n",
       "      <td>3</td>\n",
       "    </tr>\n",
       "  </tbody>\n",
       "</table>\n",
       "</div>"
      ],
      "text/plain": [
       "  order_purchase_timestamp_first order_purchase_timestamp  users_of_cohorts  \\\n",
       "0                        2017-01                  2017-01               762   \n",
       "1                        2017-01                  2017-02                 3   \n",
       "2                        2017-01                  2017-03                 2   \n",
       "\n",
       "   general_user     CRR  cohort_period  \n",
       "0           762  100.00              1  \n",
       "1           762    0.39              2  \n",
       "2           762    0.26              3  "
      ]
     },
     "execution_count": 253,
     "metadata": {},
     "output_type": "execute_result"
    }
   ],
   "source": [
    "def cohort_period(date):\n",
    "    period=0\n",
    "    sp=date.split('-')\n",
    "    if sp[0]==\"2017\":\n",
    "        period=int(sp[1])\n",
    "    else:\n",
    "        period=int(sp[1])+12\n",
    "    return(period)\n",
    "\n",
    "cohorts['cohort_period'] = cohorts.order_purchase_timestamp.apply(cohort_period)\n",
    "cohorts.head(3)"
   ]
  },
  {
   "cell_type": "markdown",
   "metadata": {},
   "source": [
    "вернем обратно индексы, но теперь с когортами и периодами когорт, вынесем второй уровень индексов в столбцы"
   ]
  },
  {
   "cell_type": "code",
   "execution_count": 254,
   "metadata": {},
   "outputs": [],
   "source": [
    "cohorts.set_index(['order_purchase_timestamp_first', 'cohort_period'], inplace=True)\n",
    "table=cohorts['CRR'].unstack(1)"
   ]
  },
  {
   "cell_type": "code",
   "execution_count": 255,
   "metadata": {},
   "outputs": [
    {
     "data": {
      "text/html": [
       "<div>\n",
       "<style scoped>\n",
       "    .dataframe tbody tr th:only-of-type {\n",
       "        vertical-align: middle;\n",
       "    }\n",
       "\n",
       "    .dataframe tbody tr th {\n",
       "        vertical-align: top;\n",
       "    }\n",
       "\n",
       "    .dataframe thead th {\n",
       "        text-align: right;\n",
       "    }\n",
       "</style>\n",
       "<table border=\"1\" class=\"dataframe\">\n",
       "  <thead>\n",
       "    <tr style=\"text-align: right;\">\n",
       "      <th>cohort_period</th>\n",
       "      <th>1</th>\n",
       "      <th>2</th>\n",
       "      <th>3</th>\n",
       "      <th>4</th>\n",
       "      <th>5</th>\n",
       "      <th>6</th>\n",
       "      <th>7</th>\n",
       "      <th>8</th>\n",
       "      <th>9</th>\n",
       "      <th>10</th>\n",
       "      <th>11</th>\n",
       "      <th>12</th>\n",
       "      <th>13</th>\n",
       "      <th>14</th>\n",
       "      <th>15</th>\n",
       "      <th>16</th>\n",
       "      <th>17</th>\n",
       "      <th>18</th>\n",
       "      <th>19</th>\n",
       "      <th>20</th>\n",
       "    </tr>\n",
       "    <tr>\n",
       "      <th>order_purchase_timestamp_first</th>\n",
       "      <th></th>\n",
       "      <th></th>\n",
       "      <th></th>\n",
       "      <th></th>\n",
       "      <th></th>\n",
       "      <th></th>\n",
       "      <th></th>\n",
       "      <th></th>\n",
       "      <th></th>\n",
       "      <th></th>\n",
       "      <th></th>\n",
       "      <th></th>\n",
       "      <th></th>\n",
       "      <th></th>\n",
       "      <th></th>\n",
       "      <th></th>\n",
       "      <th></th>\n",
       "      <th></th>\n",
       "      <th></th>\n",
       "      <th></th>\n",
       "    </tr>\n",
       "  </thead>\n",
       "  <tbody>\n",
       "    <tr>\n",
       "      <th>2017-01</th>\n",
       "      <td>100.0</td>\n",
       "      <td>0.39</td>\n",
       "      <td>0.26</td>\n",
       "      <td>0.13</td>\n",
       "      <td>0.39</td>\n",
       "      <td>0.13</td>\n",
       "      <td>0.52</td>\n",
       "      <td>0.13</td>\n",
       "      <td>0.13</td>\n",
       "      <td>NaN</td>\n",
       "      <td>0.39</td>\n",
       "      <td>0.13</td>\n",
       "      <td>0.79</td>\n",
       "      <td>0.39</td>\n",
       "      <td>0.13</td>\n",
       "      <td>0.13</td>\n",
       "      <td>0.26</td>\n",
       "      <td>0.39</td>\n",
       "      <td>NaN</td>\n",
       "      <td>0.13</td>\n",
       "    </tr>\n",
       "    <tr>\n",
       "      <th>2017-02</th>\n",
       "      <td>NaN</td>\n",
       "      <td>100.00</td>\n",
       "      <td>0.23</td>\n",
       "      <td>0.29</td>\n",
       "      <td>0.12</td>\n",
       "      <td>0.40</td>\n",
       "      <td>0.12</td>\n",
       "      <td>0.23</td>\n",
       "      <td>0.17</td>\n",
       "      <td>0.12</td>\n",
       "      <td>0.23</td>\n",
       "      <td>0.12</td>\n",
       "      <td>0.29</td>\n",
       "      <td>0.17</td>\n",
       "      <td>0.17</td>\n",
       "      <td>0.12</td>\n",
       "      <td>0.06</td>\n",
       "      <td>0.06</td>\n",
       "      <td>0.23</td>\n",
       "      <td>NaN</td>\n",
       "    </tr>\n",
       "    <tr>\n",
       "      <th>2017-03</th>\n",
       "      <td>NaN</td>\n",
       "      <td>NaN</td>\n",
       "      <td>100.00</td>\n",
       "      <td>0.49</td>\n",
       "      <td>0.34</td>\n",
       "      <td>0.38</td>\n",
       "      <td>0.34</td>\n",
       "      <td>0.15</td>\n",
       "      <td>0.15</td>\n",
       "      <td>0.30</td>\n",
       "      <td>0.34</td>\n",
       "      <td>0.08</td>\n",
       "      <td>0.38</td>\n",
       "      <td>0.15</td>\n",
       "      <td>0.23</td>\n",
       "      <td>0.11</td>\n",
       "      <td>0.15</td>\n",
       "      <td>0.23</td>\n",
       "      <td>0.08</td>\n",
       "      <td>0.15</td>\n",
       "    </tr>\n",
       "    <tr>\n",
       "      <th>2017-04</th>\n",
       "      <td>NaN</td>\n",
       "      <td>NaN</td>\n",
       "      <td>NaN</td>\n",
       "      <td>100.00</td>\n",
       "      <td>0.60</td>\n",
       "      <td>0.21</td>\n",
       "      <td>0.17</td>\n",
       "      <td>0.34</td>\n",
       "      <td>0.26</td>\n",
       "      <td>0.34</td>\n",
       "      <td>0.30</td>\n",
       "      <td>0.30</td>\n",
       "      <td>0.17</td>\n",
       "      <td>0.26</td>\n",
       "      <td>0.09</td>\n",
       "      <td>0.09</td>\n",
       "      <td>0.04</td>\n",
       "      <td>0.09</td>\n",
       "      <td>0.09</td>\n",
       "      <td>0.21</td>\n",
       "    </tr>\n",
       "    <tr>\n",
       "      <th>2017-05</th>\n",
       "      <td>NaN</td>\n",
       "      <td>NaN</td>\n",
       "      <td>NaN</td>\n",
       "      <td>NaN</td>\n",
       "      <td>100.00</td>\n",
       "      <td>0.47</td>\n",
       "      <td>0.50</td>\n",
       "      <td>0.39</td>\n",
       "      <td>0.31</td>\n",
       "      <td>0.33</td>\n",
       "      <td>0.42</td>\n",
       "      <td>0.17</td>\n",
       "      <td>0.25</td>\n",
       "      <td>0.31</td>\n",
       "      <td>0.25</td>\n",
       "      <td>0.33</td>\n",
       "      <td>0.25</td>\n",
       "      <td>0.03</td>\n",
       "      <td>0.19</td>\n",
       "      <td>0.25</td>\n",
       "    </tr>\n",
       "    <tr>\n",
       "      <th>2017-06</th>\n",
       "      <td>NaN</td>\n",
       "      <td>NaN</td>\n",
       "      <td>NaN</td>\n",
       "      <td>NaN</td>\n",
       "      <td>NaN</td>\n",
       "      <td>100.00</td>\n",
       "      <td>0.48</td>\n",
       "      <td>0.35</td>\n",
       "      <td>0.41</td>\n",
       "      <td>0.25</td>\n",
       "      <td>0.38</td>\n",
       "      <td>0.38</td>\n",
       "      <td>0.22</td>\n",
       "      <td>0.13</td>\n",
       "      <td>0.22</td>\n",
       "      <td>0.32</td>\n",
       "      <td>0.35</td>\n",
       "      <td>0.16</td>\n",
       "      <td>0.13</td>\n",
       "      <td>0.19</td>\n",
       "    </tr>\n",
       "    <tr>\n",
       "      <th>2017-07</th>\n",
       "      <td>NaN</td>\n",
       "      <td>NaN</td>\n",
       "      <td>NaN</td>\n",
       "      <td>NaN</td>\n",
       "      <td>NaN</td>\n",
       "      <td>NaN</td>\n",
       "      <td>100.00</td>\n",
       "      <td>0.51</td>\n",
       "      <td>0.36</td>\n",
       "      <td>0.26</td>\n",
       "      <td>0.28</td>\n",
       "      <td>0.21</td>\n",
       "      <td>0.31</td>\n",
       "      <td>0.10</td>\n",
       "      <td>0.18</td>\n",
       "      <td>0.26</td>\n",
       "      <td>0.23</td>\n",
       "      <td>0.31</td>\n",
       "      <td>0.13</td>\n",
       "      <td>0.26</td>\n",
       "    </tr>\n",
       "    <tr>\n",
       "      <th>2017-08</th>\n",
       "      <td>NaN</td>\n",
       "      <td>NaN</td>\n",
       "      <td>NaN</td>\n",
       "      <td>NaN</td>\n",
       "      <td>NaN</td>\n",
       "      <td>NaN</td>\n",
       "      <td>NaN</td>\n",
       "      <td>100.00</td>\n",
       "      <td>0.67</td>\n",
       "      <td>0.33</td>\n",
       "      <td>0.26</td>\n",
       "      <td>0.36</td>\n",
       "      <td>0.53</td>\n",
       "      <td>0.29</td>\n",
       "      <td>0.26</td>\n",
       "      <td>0.14</td>\n",
       "      <td>0.14</td>\n",
       "      <td>0.24</td>\n",
       "      <td>0.19</td>\n",
       "      <td>0.10</td>\n",
       "    </tr>\n",
       "    <tr>\n",
       "      <th>2017-09</th>\n",
       "      <td>NaN</td>\n",
       "      <td>NaN</td>\n",
       "      <td>NaN</td>\n",
       "      <td>NaN</td>\n",
       "      <td>NaN</td>\n",
       "      <td>NaN</td>\n",
       "      <td>NaN</td>\n",
       "      <td>NaN</td>\n",
       "      <td>100.00</td>\n",
       "      <td>0.68</td>\n",
       "      <td>0.53</td>\n",
       "      <td>0.29</td>\n",
       "      <td>0.46</td>\n",
       "      <td>0.22</td>\n",
       "      <td>0.22</td>\n",
       "      <td>0.24</td>\n",
       "      <td>0.29</td>\n",
       "      <td>0.17</td>\n",
       "      <td>0.27</td>\n",
       "      <td>0.07</td>\n",
       "    </tr>\n",
       "    <tr>\n",
       "      <th>2017-10</th>\n",
       "      <td>NaN</td>\n",
       "      <td>NaN</td>\n",
       "      <td>NaN</td>\n",
       "      <td>NaN</td>\n",
       "      <td>NaN</td>\n",
       "      <td>NaN</td>\n",
       "      <td>NaN</td>\n",
       "      <td>NaN</td>\n",
       "      <td>NaN</td>\n",
       "      <td>100.00</td>\n",
       "      <td>0.69</td>\n",
       "      <td>0.25</td>\n",
       "      <td>0.09</td>\n",
       "      <td>0.22</td>\n",
       "      <td>0.20</td>\n",
       "      <td>0.22</td>\n",
       "      <td>0.36</td>\n",
       "      <td>0.27</td>\n",
       "      <td>0.20</td>\n",
       "      <td>0.20</td>\n",
       "    </tr>\n",
       "    <tr>\n",
       "      <th>2017-11</th>\n",
       "      <td>NaN</td>\n",
       "      <td>NaN</td>\n",
       "      <td>NaN</td>\n",
       "      <td>NaN</td>\n",
       "      <td>NaN</td>\n",
       "      <td>NaN</td>\n",
       "      <td>NaN</td>\n",
       "      <td>NaN</td>\n",
       "      <td>NaN</td>\n",
       "      <td>NaN</td>\n",
       "      <td>100.00</td>\n",
       "      <td>0.55</td>\n",
       "      <td>0.38</td>\n",
       "      <td>0.18</td>\n",
       "      <td>0.19</td>\n",
       "      <td>0.18</td>\n",
       "      <td>0.11</td>\n",
       "      <td>0.19</td>\n",
       "      <td>0.14</td>\n",
       "      <td>0.05</td>\n",
       "    </tr>\n",
       "    <tr>\n",
       "      <th>2017-12</th>\n",
       "      <td>NaN</td>\n",
       "      <td>NaN</td>\n",
       "      <td>NaN</td>\n",
       "      <td>NaN</td>\n",
       "      <td>NaN</td>\n",
       "      <td>NaN</td>\n",
       "      <td>NaN</td>\n",
       "      <td>NaN</td>\n",
       "      <td>NaN</td>\n",
       "      <td>NaN</td>\n",
       "      <td>NaN</td>\n",
       "      <td>100.00</td>\n",
       "      <td>0.26</td>\n",
       "      <td>0.27</td>\n",
       "      <td>0.35</td>\n",
       "      <td>0.27</td>\n",
       "      <td>0.20</td>\n",
       "      <td>0.16</td>\n",
       "      <td>0.04</td>\n",
       "      <td>0.22</td>\n",
       "    </tr>\n",
       "  </tbody>\n",
       "</table>\n",
       "</div>"
      ],
      "text/plain": [
       "cohort_period                      1       2       3       4       5       6   \\\n",
       "order_purchase_timestamp_first                                                  \n",
       "2017-01                         100.0    0.39    0.26    0.13    0.39    0.13   \n",
       "2017-02                           NaN  100.00    0.23    0.29    0.12    0.40   \n",
       "2017-03                           NaN     NaN  100.00    0.49    0.34    0.38   \n",
       "2017-04                           NaN     NaN     NaN  100.00    0.60    0.21   \n",
       "2017-05                           NaN     NaN     NaN     NaN  100.00    0.47   \n",
       "2017-06                           NaN     NaN     NaN     NaN     NaN  100.00   \n",
       "2017-07                           NaN     NaN     NaN     NaN     NaN     NaN   \n",
       "2017-08                           NaN     NaN     NaN     NaN     NaN     NaN   \n",
       "2017-09                           NaN     NaN     NaN     NaN     NaN     NaN   \n",
       "2017-10                           NaN     NaN     NaN     NaN     NaN     NaN   \n",
       "2017-11                           NaN     NaN     NaN     NaN     NaN     NaN   \n",
       "2017-12                           NaN     NaN     NaN     NaN     NaN     NaN   \n",
       "\n",
       "cohort_period                       7       8       9       10      11  \\\n",
       "order_purchase_timestamp_first                                           \n",
       "2017-01                           0.52    0.13    0.13     NaN    0.39   \n",
       "2017-02                           0.12    0.23    0.17    0.12    0.23   \n",
       "2017-03                           0.34    0.15    0.15    0.30    0.34   \n",
       "2017-04                           0.17    0.34    0.26    0.34    0.30   \n",
       "2017-05                           0.50    0.39    0.31    0.33    0.42   \n",
       "2017-06                           0.48    0.35    0.41    0.25    0.38   \n",
       "2017-07                         100.00    0.51    0.36    0.26    0.28   \n",
       "2017-08                            NaN  100.00    0.67    0.33    0.26   \n",
       "2017-09                            NaN     NaN  100.00    0.68    0.53   \n",
       "2017-10                            NaN     NaN     NaN  100.00    0.69   \n",
       "2017-11                            NaN     NaN     NaN     NaN  100.00   \n",
       "2017-12                            NaN     NaN     NaN     NaN     NaN   \n",
       "\n",
       "cohort_period                       12    13    14    15    16    17    18  \\\n",
       "order_purchase_timestamp_first                                               \n",
       "2017-01                           0.13  0.79  0.39  0.13  0.13  0.26  0.39   \n",
       "2017-02                           0.12  0.29  0.17  0.17  0.12  0.06  0.06   \n",
       "2017-03                           0.08  0.38  0.15  0.23  0.11  0.15  0.23   \n",
       "2017-04                           0.30  0.17  0.26  0.09  0.09  0.04  0.09   \n",
       "2017-05                           0.17  0.25  0.31  0.25  0.33  0.25  0.03   \n",
       "2017-06                           0.38  0.22  0.13  0.22  0.32  0.35  0.16   \n",
       "2017-07                           0.21  0.31  0.10  0.18  0.26  0.23  0.31   \n",
       "2017-08                           0.36  0.53  0.29  0.26  0.14  0.14  0.24   \n",
       "2017-09                           0.29  0.46  0.22  0.22  0.24  0.29  0.17   \n",
       "2017-10                           0.25  0.09  0.22  0.20  0.22  0.36  0.27   \n",
       "2017-11                           0.55  0.38  0.18  0.19  0.18  0.11  0.19   \n",
       "2017-12                         100.00  0.26  0.27  0.35  0.27  0.20  0.16   \n",
       "\n",
       "cohort_period                     19    20  \n",
       "order_purchase_timestamp_first              \n",
       "2017-01                          NaN  0.13  \n",
       "2017-02                         0.23   NaN  \n",
       "2017-03                         0.08  0.15  \n",
       "2017-04                         0.09  0.21  \n",
       "2017-05                         0.19  0.25  \n",
       "2017-06                         0.13  0.19  \n",
       "2017-07                         0.13  0.26  \n",
       "2017-08                         0.19  0.10  \n",
       "2017-09                         0.27  0.07  \n",
       "2017-10                         0.20  0.20  \n",
       "2017-11                         0.14  0.05  \n",
       "2017-12                         0.04  0.22  "
      ]
     },
     "execution_count": 255,
     "metadata": {},
     "output_type": "execute_result"
    }
   ],
   "source": [
    "table"
   ]
  },
  {
   "cell_type": "markdown",
   "metadata": {},
   "source": [
    "Визуализируем полученные данные при помощи тепловой карты"
   ]
  },
  {
   "cell_type": "code",
   "execution_count": 259,
   "metadata": {},
   "outputs": [
    {
     "data": {
      "text/plain": [
       "<matplotlib.axes._subplots.AxesSubplot at 0x7f6ab27a65c0>"
      ]
     },
     "execution_count": 259,
     "metadata": {},
     "output_type": "execute_result"
    },
    {
     "data": {
      "image/png": "[encoded data removed]",
      "text/plain": [
       "<Figure size 1080x648 with 2 Axes>"
      ]
     },
     "metadata": {},
     "output_type": "display_data"
    }
   ],
   "source": [
    "cmap = sns.cm.rocket_r\n",
    "sns.set(style='ticks')\n",
    "plt.figure(figsize=(15, 9))\n",
    "plt.xlabel('Cohorts')\n",
    "plt.title('User retention')\n",
    "sns.heatmap(table, annot=True, cmap=cmap, vmin=0, vmax=2, center= 1)"
   ]
  },
  {
   "cell_type": "markdown",
   "metadata": {},
   "source": [
    "Необходимо найти когорту с самым высоким retention на 3й месяц"
   ]
  },
  {
   "cell_type": "code",
   "execution_count": 257,
   "metadata": {},
   "outputs": [],
   "source": [
    "max_crr=cohorts.copy()\n",
    "max_crr.reset_index(inplace=True)\n",
    "\n",
    "sp1, sp2=[], []\n",
    "for i, row in max_crr.iterrows():\n",
    "    coh=int(row['order_purchase_timestamp_first'].split('-')[1])\n",
    "    if row['cohort_period']==(coh+3):\n",
    "        sp1.append(row['order_purchase_timestamp_first'])\n",
    "        sp2.append(row['CRR'])"
   ]
  },
  {
   "cell_type": "code",
   "execution_count": 258,
   "metadata": {},
   "outputs": [
    {
     "data": {
      "text/plain": [
       "coh    2017-06\n",
       "CRR       0.41\n",
       "Name: 5, dtype: object"
      ]
     },
     "execution_count": 258,
     "metadata": {},
     "output_type": "execute_result"
    }
   ],
   "source": [
    "df=pd.DataFrame({'coh': sp1, 'CRR': sp2})\n",
    "df.loc[df['CRR'].idxmax()]"
   ]
  },
  {
   "cell_type": "markdown",
   "metadata": {},
   "source": [
    "Когорта с самым высоким retention на 3й месяц (0.41) у покупателей, сделавших покупку 2017-06"
   ]
  },
  {
   "cell_type": "markdown",
   "metadata": {},
   "source": [
    "## 6. Часто для качественного анализа аудитории использую подходы, основанные на сегментации. Используя python, построй RFM-сегментацию пользователей, чтобы качественно оценить свою аудиторию. В кластеризации можешь выбрать следующие метрики: R - время от последней покупки пользователя до текущей даты, F - суммарное количество покупок у пользователя за всё время, M - сумма покупок за всё время. Подробно опиши, как ты создавал кластеры. Для каждого RFM-сегмента построй границы метрик recency, frequency и monetary для интерпретации этих кластеров. Пример такого описания: RFM-сегмент 132 (recency=1, frequency=3, monetary=2) имеет границы метрик recency от 130 до 500 дней, frequency от 2 до 5 заказов в неделю, monetary от 1780 до 3560 рублей в неделю."
   ]
  },
  {
   "cell_type": "markdown",
   "metadata": {},
   "source": [
    "Мерджим удобный для работы датафрейм, оставляем только оплаченные заказы с корректными статусами, удаляем лишние пропуски."
   ]
  },
  {
   "cell_type": "code",
   "execution_count": 220,
   "metadata": {},
   "outputs": [
    {
     "data": {
      "text/html": [
       "<div>\n",
       "<style scoped>\n",
       "    .dataframe tbody tr th:only-of-type {\n",
       "        vertical-align: middle;\n",
       "    }\n",
       "\n",
       "    .dataframe tbody tr th {\n",
       "        vertical-align: top;\n",
       "    }\n",
       "\n",
       "    .dataframe thead th {\n",
       "        text-align: right;\n",
       "    }\n",
       "</style>\n",
       "<table border=\"1\" class=\"dataframe\">\n",
       "  <thead>\n",
       "    <tr style=\"text-align: right;\">\n",
       "      <th></th>\n",
       "      <th>customer_id</th>\n",
       "      <th>customer_unique_id</th>\n",
       "      <th>customer_zip_code_prefix</th>\n",
       "      <th>customer_city</th>\n",
       "      <th>customer_state</th>\n",
       "      <th>order_id</th>\n",
       "      <th>order_status</th>\n",
       "      <th>order_purchase_timestamp</th>\n",
       "      <th>order_approved_at</th>\n",
       "      <th>order_delivered_carrier_date</th>\n",
       "      <th>order_delivered_customer_date</th>\n",
       "      <th>order_estimated_delivery_date</th>\n",
       "      <th>order_item_id</th>\n",
       "      <th>product_id</th>\n",
       "      <th>seller_id</th>\n",
       "      <th>shipping_limit_date</th>\n",
       "      <th>price</th>\n",
       "      <th>freight_value</th>\n",
       "    </tr>\n",
       "  </thead>\n",
       "  <tbody>\n",
       "    <tr>\n",
       "      <th>0</th>\n",
       "      <td>06b8999e2fba1a1fbc88172c00ba8bc7</td>\n",
       "      <td>861eff4711a542e4b93843c6dd7febb0</td>\n",
       "      <td>14409</td>\n",
       "      <td>franca</td>\n",
       "      <td>SP</td>\n",
       "      <td>00e7ee1b050b8499577073aeb2a297a1</td>\n",
       "      <td>delivered</td>\n",
       "      <td>2017-05-16 15:05:35</td>\n",
       "      <td>2017-05-16 15:22:12</td>\n",
       "      <td>2017-05-23 10:47:57</td>\n",
       "      <td>2017-05-25 10:35:35</td>\n",
       "      <td>2017-06-05 00:00:00</td>\n",
       "      <td>1.0</td>\n",
       "      <td>a9516a079e37a9c9c36b9b78b10169e8</td>\n",
       "      <td>7c67e1448b00f6e969d365cea6b010ab</td>\n",
       "      <td>2017-05-22 15:22:12</td>\n",
       "      <td>124.99</td>\n",
       "      <td>21.88</td>\n",
       "    </tr>\n",
       "    <tr>\n",
       "      <th>1</th>\n",
       "      <td>18955e83d337fd6b2def6b18a428ac77</td>\n",
       "      <td>290c77bc529b7ac935b93aa66c333dc3</td>\n",
       "      <td>9790</td>\n",
       "      <td>sao bernardo do campo</td>\n",
       "      <td>SP</td>\n",
       "      <td>29150127e6685892b6eab3eec79f59c7</td>\n",
       "      <td>delivered</td>\n",
       "      <td>2018-01-12 20:48:24</td>\n",
       "      <td>2018-01-12 20:58:32</td>\n",
       "      <td>2018-01-15 17:14:59</td>\n",
       "      <td>2018-01-29 12:41:19</td>\n",
       "      <td>2018-02-06 00:00:00</td>\n",
       "      <td>1.0</td>\n",
       "      <td>4aa6014eceb682077f9dc4bffebc05b0</td>\n",
       "      <td>b8bc237ba3788b23da09c0f1f3a3288c</td>\n",
       "      <td>2018-01-18 20:58:32</td>\n",
       "      <td>289.00</td>\n",
       "      <td>46.48</td>\n",
       "    </tr>\n",
       "    <tr>\n",
       "      <th>2</th>\n",
       "      <td>4e7b3e00288586ebd08712fdd0374a03</td>\n",
       "      <td>060e732b5b29e8181a18229c7b0b2b5e</td>\n",
       "      <td>1151</td>\n",
       "      <td>sao paulo</td>\n",
       "      <td>SP</td>\n",
       "      <td>b2059ed67ce144a36e2aa97d2c9e9ad2</td>\n",
       "      <td>delivered</td>\n",
       "      <td>2018-05-19 16:07:45</td>\n",
       "      <td>2018-05-20 16:19:10</td>\n",
       "      <td>2018-06-11 14:31:00</td>\n",
       "      <td>2018-06-14 17:58:51</td>\n",
       "      <td>2018-06-13 00:00:00</td>\n",
       "      <td>1.0</td>\n",
       "      <td>bd07b66896d6f1494f5b86251848ced7</td>\n",
       "      <td>7c67e1448b00f6e969d365cea6b010ab</td>\n",
       "      <td>2018-06-05 16:19:10</td>\n",
       "      <td>139.94</td>\n",
       "      <td>17.79</td>\n",
       "    </tr>\n",
       "  </tbody>\n",
       "</table>\n",
       "</div>"
      ],
      "text/plain": [
       "                        customer_id                customer_unique_id  \\\n",
       "0  06b8999e2fba1a1fbc88172c00ba8bc7  861eff4711a542e4b93843c6dd7febb0   \n",
       "1  18955e83d337fd6b2def6b18a428ac77  290c77bc529b7ac935b93aa66c333dc3   \n",
       "2  4e7b3e00288586ebd08712fdd0374a03  060e732b5b29e8181a18229c7b0b2b5e   \n",
       "\n",
       "   customer_zip_code_prefix          customer_city customer_state  \\\n",
       "0                     14409                 franca             SP   \n",
       "1                      9790  sao bernardo do campo             SP   \n",
       "2                      1151              sao paulo             SP   \n",
       "\n",
       "                           order_id order_status order_purchase_timestamp  \\\n",
       "0  00e7ee1b050b8499577073aeb2a297a1    delivered      2017-05-16 15:05:35   \n",
       "1  29150127e6685892b6eab3eec79f59c7    delivered      2018-01-12 20:48:24   \n",
       "2  b2059ed67ce144a36e2aa97d2c9e9ad2    delivered      2018-05-19 16:07:45   \n",
       "\n",
       "     order_approved_at order_delivered_carrier_date  \\\n",
       "0  2017-05-16 15:22:12          2017-05-23 10:47:57   \n",
       "1  2018-01-12 20:58:32          2018-01-15 17:14:59   \n",
       "2  2018-05-20 16:19:10          2018-06-11 14:31:00   \n",
       "\n",
       "  order_delivered_customer_date order_estimated_delivery_date  order_item_id  \\\n",
       "0           2017-05-25 10:35:35           2017-06-05 00:00:00            1.0   \n",
       "1           2018-01-29 12:41:19           2018-02-06 00:00:00            1.0   \n",
       "2           2018-06-14 17:58:51           2018-06-13 00:00:00            1.0   \n",
       "\n",
       "                         product_id                         seller_id  \\\n",
       "0  a9516a079e37a9c9c36b9b78b10169e8  7c67e1448b00f6e969d365cea6b010ab   \n",
       "1  4aa6014eceb682077f9dc4bffebc05b0  b8bc237ba3788b23da09c0f1f3a3288c   \n",
       "2  bd07b66896d6f1494f5b86251848ced7  7c67e1448b00f6e969d365cea6b010ab   \n",
       "\n",
       "   shipping_limit_date   price  freight_value  \n",
       "0  2017-05-22 15:22:12  124.99          21.88  \n",
       "1  2018-01-18 20:58:32  289.00          46.48  \n",
       "2  2018-06-05 16:19:10  139.94          17.79  "
      ]
     },
     "execution_count": 220,
     "metadata": {},
     "output_type": "execute_result"
    }
   ],
   "source": [
    "orders_items=customer.merge(orders, on='customer_id', how='left').merge(order_items, on='order_id', how='left') \\\n",
    "    .dropna(subset=['order_approved_at']) \\\n",
    "    .query('order_status != \"approved\"') \\\n",
    "    .dropna(axis='index', how='any', subset=['order_purchase_timestamp'])\n",
    "orders_items.head(3)"
   ]
  },
  {
   "cell_type": "markdown",
   "metadata": {},
   "source": [
    "Приводим колонку с датой заказа к формату datetime"
   ]
  },
  {
   "cell_type": "code",
   "execution_count": 221,
   "metadata": {},
   "outputs": [],
   "source": [
    "orders_items.order_purchase_timestamp = pd.to_datetime(orders_items.order_purchase_timestamp)"
   ]
  },
  {
   "cell_type": "markdown",
   "metadata": {},
   "source": [
    "Оставляем только нужные для работы колонки"
   ]
  },
  {
   "cell_type": "code",
   "execution_count": 222,
   "metadata": {},
   "outputs": [],
   "source": [
    "orders_items = orders_items[{'order_id', 'order_purchase_timestamp', 'customer_unique_id','price','order_item_id'}]"
   ]
  },
  {
   "cell_type": "code",
   "execution_count": 223,
   "metadata": {},
   "outputs": [
    {
     "data": {
      "text/html": [
       "<div>\n",
       "<style scoped>\n",
       "    .dataframe tbody tr th:only-of-type {\n",
       "        vertical-align: middle;\n",
       "    }\n",
       "\n",
       "    .dataframe tbody tr th {\n",
       "        vertical-align: top;\n",
       "    }\n",
       "\n",
       "    .dataframe thead th {\n",
       "        text-align: right;\n",
       "    }\n",
       "</style>\n",
       "<table border=\"1\" class=\"dataframe\">\n",
       "  <thead>\n",
       "    <tr style=\"text-align: right;\">\n",
       "      <th></th>\n",
       "      <th>order_id</th>\n",
       "      <th>price</th>\n",
       "      <th>order_purchase_timestamp</th>\n",
       "      <th>customer_unique_id</th>\n",
       "      <th>order_item_id</th>\n",
       "    </tr>\n",
       "  </thead>\n",
       "  <tbody>\n",
       "    <tr>\n",
       "      <th>0</th>\n",
       "      <td>00e7ee1b050b8499577073aeb2a297a1</td>\n",
       "      <td>124.99</td>\n",
       "      <td>2017-05-16 15:05:35</td>\n",
       "      <td>861eff4711a542e4b93843c6dd7febb0</td>\n",
       "      <td>1.0</td>\n",
       "    </tr>\n",
       "    <tr>\n",
       "      <th>1</th>\n",
       "      <td>29150127e6685892b6eab3eec79f59c7</td>\n",
       "      <td>289.00</td>\n",
       "      <td>2018-01-12 20:48:24</td>\n",
       "      <td>290c77bc529b7ac935b93aa66c333dc3</td>\n",
       "      <td>1.0</td>\n",
       "    </tr>\n",
       "    <tr>\n",
       "      <th>2</th>\n",
       "      <td>b2059ed67ce144a36e2aa97d2c9e9ad2</td>\n",
       "      <td>139.94</td>\n",
       "      <td>2018-05-19 16:07:45</td>\n",
       "      <td>060e732b5b29e8181a18229c7b0b2b5e</td>\n",
       "      <td>1.0</td>\n",
       "    </tr>\n",
       "  </tbody>\n",
       "</table>\n",
       "</div>"
      ],
      "text/plain": [
       "                           order_id   price order_purchase_timestamp  \\\n",
       "0  00e7ee1b050b8499577073aeb2a297a1  124.99      2017-05-16 15:05:35   \n",
       "1  29150127e6685892b6eab3eec79f59c7  289.00      2018-01-12 20:48:24   \n",
       "2  b2059ed67ce144a36e2aa97d2c9e9ad2  139.94      2018-05-19 16:07:45   \n",
       "\n",
       "                 customer_unique_id  order_item_id  \n",
       "0  861eff4711a542e4b93843c6dd7febb0            1.0  \n",
       "1  290c77bc529b7ac935b93aa66c333dc3            1.0  \n",
       "2  060e732b5b29e8181a18229c7b0b2b5e            1.0  "
      ]
     },
     "execution_count": 223,
     "metadata": {},
     "output_type": "execute_result"
    }
   ],
   "source": [
    "orders_items.head(3)"
   ]
  },
  {
   "cell_type": "markdown",
   "metadata": {},
   "source": [
    "Проверяем временные рамки данных"
   ]
  },
  {
   "cell_type": "code",
   "execution_count": 224,
   "metadata": {},
   "outputs": [
    {
     "name": "stdout",
     "output_type": "stream",
     "text": [
      "Orders from 2016-09-04 21:15:19 to 2018-09-03 09:06:57\n"
     ]
    }
   ],
   "source": [
    "print('Orders from {} to {}'.format(orders_items['order_purchase_timestamp'].min(),\n",
    "                                    orders_items['order_purchase_timestamp'].max()))"
   ]
  },
  {
   "cell_type": "markdown",
   "metadata": {},
   "source": [
    "У нас есть данные о продажах за два года (с сентября 2016 г. по август 2018 г.). \n",
    "Обычнодля RFM-анализа используется один год. \n",
    "Я буду использовать 2017 год, так как он у нас полный."
   ]
  },
  {
   "cell_type": "markdown",
   "metadata": {},
   "source": [
    "Моделируем анализ в реальном времени в реальном времени, установив дату NOW на один день после последней покупки. Эта дата будет использоваться в качестве ориентира для расчета Recency очков."
   ]
  },
  {
   "cell_type": "code",
   "execution_count": 225,
   "metadata": {},
   "outputs": [
    {
     "data": {
      "text/plain": [
       "Timestamp('2018-09-04 09:06:57')"
      ]
     },
     "execution_count": 225,
     "metadata": {},
     "output_type": "execute_result"
    }
   ],
   "source": [
    "NOW = orders_items['order_purchase_timestamp'].max() + timedelta(days=1)\n",
    "NOW"
   ]
  },
  {
   "cell_type": "markdown",
   "metadata": {},
   "source": [
    "Изучаем данные за один год. создаем period переменную на 365 (дней)."
   ]
  },
  {
   "cell_type": "code",
   "execution_count": 226,
   "metadata": {},
   "outputs": [],
   "source": [
    "period = 365"
   ]
  },
  {
   "cell_type": "markdown",
   "metadata": {},
   "source": [
    "Чтобы упростить задачу, добавляем столбец с количеством дней между покупкой и текущим моментом. Чтобы найти значения недавности, находим минимум этого столбца для каждого клиента."
   ]
  },
  {
   "cell_type": "code",
   "execution_count": 227,
   "metadata": {},
   "outputs": [],
   "source": [
    "orders_items['DaysSinceOrder'] = orders_items['order_purchase_timestamp'].apply(lambda x: (NOW - x).days)"
   ]
  },
  {
   "cell_type": "markdown",
   "metadata": {},
   "source": [
    "Для подсчета суммы покупок за все время Monetary нам понадобится стоимость заказов, поэтому добавляем столбец со стоимостью в наш датафрейм"
   ]
  },
  {
   "cell_type": "code",
   "execution_count": 228,
   "metadata": {},
   "outputs": [],
   "source": [
    "orders_items['order_cost'] = orders_items.price * orders_items.order_item_id"
   ]
  },
  {
   "cell_type": "markdown",
   "metadata": {},
   "source": [
    "Сгруппируем данные по клиентам и посчитаем Recency, Frequency и Monetary"
   ]
  },
  {
   "cell_type": "code",
   "execution_count": 229,
   "metadata": {},
   "outputs": [],
   "source": [
    "rfm = orders_items.groupby('customer_unique_id', as_index=False)  \\\n",
    "            .agg({'DaysSinceOrder':'min',  \\\n",
    "                  'order_purchase_timestamp': 'count',  \\\n",
    "                 'order_cost':'sum'})"
   ]
  },
  {
   "cell_type": "markdown",
   "metadata": {},
   "source": [
    "Переименуем полученные колонки"
   ]
  },
  {
   "cell_type": "code",
   "execution_count": 230,
   "metadata": {},
   "outputs": [],
   "source": [
    "rfm.rename(columns={'DaysSinceOrder': 'Recency', 'order_purchase_timestamp': 'Frequency', 'order_cost':'Monetary'}, inplace=True)"
   ]
  },
  {
   "cell_type": "code",
   "execution_count": 231,
   "metadata": {},
   "outputs": [
    {
     "data": {
      "text/html": [
       "<div>\n",
       "<style scoped>\n",
       "    .dataframe tbody tr th:only-of-type {\n",
       "        vertical-align: middle;\n",
       "    }\n",
       "\n",
       "    .dataframe tbody tr th {\n",
       "        vertical-align: top;\n",
       "    }\n",
       "\n",
       "    .dataframe thead th {\n",
       "        text-align: right;\n",
       "    }\n",
       "</style>\n",
       "<table border=\"1\" class=\"dataframe\">\n",
       "  <thead>\n",
       "    <tr style=\"text-align: right;\">\n",
       "      <th></th>\n",
       "      <th>customer_unique_id</th>\n",
       "      <th>Recency</th>\n",
       "      <th>Frequency</th>\n",
       "      <th>Monetary</th>\n",
       "    </tr>\n",
       "  </thead>\n",
       "  <tbody>\n",
       "    <tr>\n",
       "      <th>0</th>\n",
       "      <td>0000366f3b9a7992bf8c76cfdf3221e2</td>\n",
       "      <td>116</td>\n",
       "      <td>1</td>\n",
       "      <td>129.90</td>\n",
       "    </tr>\n",
       "    <tr>\n",
       "      <th>1</th>\n",
       "      <td>0000b849f77a49e4a4ce2b2a4ca5be3f</td>\n",
       "      <td>119</td>\n",
       "      <td>1</td>\n",
       "      <td>18.90</td>\n",
       "    </tr>\n",
       "    <tr>\n",
       "      <th>2</th>\n",
       "      <td>0000f46a3911fa3c0805444483337064</td>\n",
       "      <td>542</td>\n",
       "      <td>1</td>\n",
       "      <td>69.00</td>\n",
       "    </tr>\n",
       "    <tr>\n",
       "      <th>3</th>\n",
       "      <td>0000f6ccb0745a6a4b88665a16c9f078</td>\n",
       "      <td>326</td>\n",
       "      <td>1</td>\n",
       "      <td>25.99</td>\n",
       "    </tr>\n",
       "    <tr>\n",
       "      <th>4</th>\n",
       "      <td>0004aac84e0df4da2b147fca70cf8255</td>\n",
       "      <td>293</td>\n",
       "      <td>1</td>\n",
       "      <td>180.00</td>\n",
       "    </tr>\n",
       "    <tr>\n",
       "      <th>5</th>\n",
       "      <td>0004bd2a26a76fe21f786e4fbd80607f</td>\n",
       "      <td>151</td>\n",
       "      <td>1</td>\n",
       "      <td>154.00</td>\n",
       "    </tr>\n",
       "    <tr>\n",
       "      <th>6</th>\n",
       "      <td>00050ab1314c0e55a6ca13cf7181fecf</td>\n",
       "      <td>136</td>\n",
       "      <td>1</td>\n",
       "      <td>27.99</td>\n",
       "    </tr>\n",
       "    <tr>\n",
       "      <th>7</th>\n",
       "      <td>00053a61a98854899e70ed204dd4bafe</td>\n",
       "      <td>187</td>\n",
       "      <td>2</td>\n",
       "      <td>573.00</td>\n",
       "    </tr>\n",
       "    <tr>\n",
       "      <th>8</th>\n",
       "      <td>0005e1862207bf6ccc02e4228effd9a0</td>\n",
       "      <td>548</td>\n",
       "      <td>1</td>\n",
       "      <td>135.00</td>\n",
       "    </tr>\n",
       "    <tr>\n",
       "      <th>9</th>\n",
       "      <td>0005ef4cd20d2893f0d9fbd94d3c0d97</td>\n",
       "      <td>175</td>\n",
       "      <td>1</td>\n",
       "      <td>104.90</td>\n",
       "    </tr>\n",
       "  </tbody>\n",
       "</table>\n",
       "</div>"
      ],
      "text/plain": [
       "                 customer_unique_id  Recency  Frequency  Monetary\n",
       "0  0000366f3b9a7992bf8c76cfdf3221e2      116          1    129.90\n",
       "1  0000b849f77a49e4a4ce2b2a4ca5be3f      119          1     18.90\n",
       "2  0000f46a3911fa3c0805444483337064      542          1     69.00\n",
       "3  0000f6ccb0745a6a4b88665a16c9f078      326          1     25.99\n",
       "4  0004aac84e0df4da2b147fca70cf8255      293          1    180.00\n",
       "5  0004bd2a26a76fe21f786e4fbd80607f      151          1    154.00\n",
       "6  00050ab1314c0e55a6ca13cf7181fecf      136          1     27.99\n",
       "7  00053a61a98854899e70ed204dd4bafe      187          2    573.00\n",
       "8  0005e1862207bf6ccc02e4228effd9a0      548          1    135.00\n",
       "9  0005ef4cd20d2893f0d9fbd94d3c0d97      175          1    104.90"
      ]
     },
     "execution_count": 231,
     "metadata": {},
     "output_type": "execute_result"
    }
   ],
   "source": [
    "rfm.head(10)"
   ]
  },
  {
   "cell_type": "markdown",
   "metadata": {},
   "source": [
    "Вычислите значения R, F и M\n",
    "На данный момент у меня есть значения для параметров Recency, Frequency и Monetary. Каждый клиент получит примечание от 1 до 5 для каждого параметра.\n",
    "Мы можем сделать это, установив диапазоны, основанные на ожидаемом поведении. Например, чтобы оценить новизну, мы могли бы использовать такую шкалу:\n",
    "\n",
    "1: 0-30 дней\n",
    "\n",
    "2: 31-60 дней\n",
    "\n",
    "3: 61-90 дней\n",
    "\n",
    "4: 91-180 дней\n",
    "\n",
    "5: 181-365 дней\n",
    "\n",
    "Мы могли бы также использовать квинтили. Каждый квинтил содержит 20% населения. Использование квинтилей является более гибким, поскольку диапазоны будут адаптироваться к данным и будут работать в разных отраслях или если произойдет какое-либо изменение в ожидаемом поведении клиентов.\n",
    "Я собираюсь использовать метод квинтилей. Сначала я получаю квинтили для каждого параметра."
   ]
  },
  {
   "cell_type": "code",
   "execution_count": 232,
   "metadata": {},
   "outputs": [
    {
     "data": {
      "text/plain": [
       "{'Recency': {0.2: 98.0, 0.4: 183.0, 0.6: 274.0, 0.8: 389.0},\n",
       " 'Frequency': {0.2: 1.0, 0.4: 1.0, 0.6: 1.0, 0.8: 1.0},\n",
       " 'Monetary': {0.2: 39.9, 0.4: 69.9, 0.6: 114.9, 0.8: 195.0}}"
      ]
     },
     "execution_count": 232,
     "metadata": {},
     "output_type": "execute_result"
    }
   ],
   "source": [
    "quintiles = rfm[['Recency', 'Frequency', 'Monetary']].quantile([.2, .4, .6, .8]).to_dict()\n",
    "quintiles"
   ]
  },
  {
   "cell_type": "markdown",
   "metadata": {},
   "source": [
    "Пишем методы для присвоения рангов от 1 до 5. Меньшее значение новизны лучше, тогда как более высокая частота и денежные значения лучше. \n",
    "Нам необходимо написать два отдельных метода."
   ]
  },
  {
   "cell_type": "code",
   "execution_count": 233,
   "metadata": {},
   "outputs": [],
   "source": [
    "def r_score(x):\n",
    "    if x <= quintiles['Recency'][.2]:\n",
    "        return 5\n",
    "    elif x <= quintiles['Recency'][.4]:\n",
    "        return 4\n",
    "    elif x <= quintiles['Recency'][.6]:\n",
    "        return 3\n",
    "    elif x <= quintiles['Recency'][.8]:\n",
    "        return 2\n",
    "    else:\n",
    "        return 1\n",
    "\n",
    "def fm_score(x, c):\n",
    "    if x <= quintiles[c][.2]:\n",
    "        return 1\n",
    "    elif x <= quintiles[c][.4]:\n",
    "        return 2\n",
    "    elif x <= quintiles[c][.6]:\n",
    "        return 3\n",
    "    elif x <= quintiles[c][.8]:\n",
    "        return 4\n",
    "    else:\n",
    "        return 5    "
   ]
  },
  {
   "cell_type": "markdown",
   "metadata": {},
   "source": [
    "Мы готовы получить оценки R, F и M каждого клиента."
   ]
  },
  {
   "cell_type": "code",
   "execution_count": 234,
   "metadata": {},
   "outputs": [],
   "source": [
    "rfm['R'] = rfm['Recency'].apply(lambda x: r_score(x))\n",
    "rfm['F'] = rfm['Frequency'].apply(lambda x: fm_score(x, 'Frequency'))\n",
    "rfm['M'] = rfm['Monetary'].apply(lambda x: fm_score(x, 'Monetary'))"
   ]
  },
  {
   "cell_type": "markdown",
   "metadata": {},
   "source": [
    "Наконец, объединяем оценки R, F и M в RFM Score."
   ]
  },
  {
   "cell_type": "code",
   "execution_count": 235,
   "metadata": {},
   "outputs": [
    {
     "data": {
      "text/html": [
       "<div>\n",
       "<style scoped>\n",
       "    .dataframe tbody tr th:only-of-type {\n",
       "        vertical-align: middle;\n",
       "    }\n",
       "\n",
       "    .dataframe tbody tr th {\n",
       "        vertical-align: top;\n",
       "    }\n",
       "\n",
       "    .dataframe thead th {\n",
       "        text-align: right;\n",
       "    }\n",
       "</style>\n",
       "<table border=\"1\" class=\"dataframe\">\n",
       "  <thead>\n",
       "    <tr style=\"text-align: right;\">\n",
       "      <th></th>\n",
       "      <th>customer_unique_id</th>\n",
       "      <th>Recency</th>\n",
       "      <th>Frequency</th>\n",
       "      <th>Monetary</th>\n",
       "      <th>R</th>\n",
       "      <th>F</th>\n",
       "      <th>M</th>\n",
       "      <th>RFM Score</th>\n",
       "    </tr>\n",
       "  </thead>\n",
       "  <tbody>\n",
       "    <tr>\n",
       "      <th>0</th>\n",
       "      <td>0000366f3b9a7992bf8c76cfdf3221e2</td>\n",
       "      <td>116</td>\n",
       "      <td>1</td>\n",
       "      <td>129.90</td>\n",
       "      <td>4</td>\n",
       "      <td>1</td>\n",
       "      <td>4</td>\n",
       "      <td>414</td>\n",
       "    </tr>\n",
       "    <tr>\n",
       "      <th>1</th>\n",
       "      <td>0000b849f77a49e4a4ce2b2a4ca5be3f</td>\n",
       "      <td>119</td>\n",
       "      <td>1</td>\n",
       "      <td>18.90</td>\n",
       "      <td>4</td>\n",
       "      <td>1</td>\n",
       "      <td>1</td>\n",
       "      <td>411</td>\n",
       "    </tr>\n",
       "    <tr>\n",
       "      <th>2</th>\n",
       "      <td>0000f46a3911fa3c0805444483337064</td>\n",
       "      <td>542</td>\n",
       "      <td>1</td>\n",
       "      <td>69.00</td>\n",
       "      <td>1</td>\n",
       "      <td>1</td>\n",
       "      <td>2</td>\n",
       "      <td>112</td>\n",
       "    </tr>\n",
       "    <tr>\n",
       "      <th>3</th>\n",
       "      <td>0000f6ccb0745a6a4b88665a16c9f078</td>\n",
       "      <td>326</td>\n",
       "      <td>1</td>\n",
       "      <td>25.99</td>\n",
       "      <td>2</td>\n",
       "      <td>1</td>\n",
       "      <td>1</td>\n",
       "      <td>211</td>\n",
       "    </tr>\n",
       "    <tr>\n",
       "      <th>4</th>\n",
       "      <td>0004aac84e0df4da2b147fca70cf8255</td>\n",
       "      <td>293</td>\n",
       "      <td>1</td>\n",
       "      <td>180.00</td>\n",
       "      <td>2</td>\n",
       "      <td>1</td>\n",
       "      <td>4</td>\n",
       "      <td>214</td>\n",
       "    </tr>\n",
       "  </tbody>\n",
       "</table>\n",
       "</div>"
      ],
      "text/plain": [
       "                 customer_unique_id  Recency  Frequency  Monetary  R  F  M  \\\n",
       "0  0000366f3b9a7992bf8c76cfdf3221e2      116          1    129.90  4  1  4   \n",
       "1  0000b849f77a49e4a4ce2b2a4ca5be3f      119          1     18.90  4  1  1   \n",
       "2  0000f46a3911fa3c0805444483337064      542          1     69.00  1  1  2   \n",
       "3  0000f6ccb0745a6a4b88665a16c9f078      326          1     25.99  2  1  1   \n",
       "4  0004aac84e0df4da2b147fca70cf8255      293          1    180.00  2  1  4   \n",
       "\n",
       "  RFM Score  \n",
       "0       414  \n",
       "1       411  \n",
       "2       112  \n",
       "3       211  \n",
       "4       214  "
      ]
     },
     "execution_count": 235,
     "metadata": {},
     "output_type": "execute_result"
    }
   ],
   "source": [
    "rfm['RFM Score'] = rfm['R'].map(str) + rfm['F'].map(str) + rfm['M'].map(str)\n",
    "rfm.head()"
   ]
  },
  {
   "cell_type": "markdown",
   "metadata": {},
   "source": [
    "Оценки RFM дают нам 53\n",
    " = 125 сегментов. Работать с которыми непросто.\n",
    "Мы будем работать с 10 сегментами на основе оценок R и F. Вот описание сегментов:"
   ]
  },
  {
   "cell_type": "markdown",
   "metadata": {},
   "source": [
    "Немного информации о значения RFM:\n",
    "Аббревиатура RFM расшифровывается:\n",
    "- Recency — давность (как давно ваши пользователи что-то у вас покупали);\n",
    "- Frequency — частота (как часто они у вас покупают);\n",
    "- Monetary — деньги (общая сумма покупок). \n",
    "\n",
    "\n",
    "Сегментация - Описание\n",
    "\n",
    "Champions -\tКупил недавно, покупаю часто и трачу больше всего\n",
    "\n",
    "Loyal Customers - клиенты\tСовершайте покупки на регулярной основе. Реагируйте на рекламные акции.\n",
    "\n",
    "Potential Loyalist - Недавние клиенты со средней частотой.\n",
    "\n",
    "Recent Customers - Покупался совсем недавно, но не часто.\n",
    "\n",
    "Promising - Недавно покупал, но потратил немного.\n",
    "\n",
    "Customers Needing Attention\t- Новизна, частота и денежные показатели выше среднего. Возможно, вы приобрели его не совсем недавно.\n",
    "\n",
    "About To Sleep - Новизна и частота ниже среднего. Они будут потеряны, если не будут активированы повторно.\n",
    "\n",
    "At Risk\t- Приобретались часто, но очень давно. Нужно вернуть их обратно!\n",
    "\n",
    "Can’t Lose Them\t- Раньше часто совершал покупки, но долгое время не возвращался.\n",
    "\n",
    "Hibernating - Последняя покупка была совершена давно и количество заказов было низким. Может быть потеряно."
   ]
  },
  {
   "cell_type": "code",
   "execution_count": 236,
   "metadata": {},
   "outputs": [
    {
     "data": {
      "text/html": [
       "<div>\n",
       "<style scoped>\n",
       "    .dataframe tbody tr th:only-of-type {\n",
       "        vertical-align: middle;\n",
       "    }\n",
       "\n",
       "    .dataframe tbody tr th {\n",
       "        vertical-align: top;\n",
       "    }\n",
       "\n",
       "    .dataframe thead th {\n",
       "        text-align: right;\n",
       "    }\n",
       "</style>\n",
       "<table border=\"1\" class=\"dataframe\">\n",
       "  <thead>\n",
       "    <tr style=\"text-align: right;\">\n",
       "      <th></th>\n",
       "      <th>customer_unique_id</th>\n",
       "      <th>Recency</th>\n",
       "      <th>Frequency</th>\n",
       "      <th>Monetary</th>\n",
       "      <th>R</th>\n",
       "      <th>F</th>\n",
       "      <th>M</th>\n",
       "      <th>RFM Score</th>\n",
       "      <th>Segment</th>\n",
       "    </tr>\n",
       "  </thead>\n",
       "  <tbody>\n",
       "    <tr>\n",
       "      <th>0</th>\n",
       "      <td>0000366f3b9a7992bf8c76cfdf3221e2</td>\n",
       "      <td>116</td>\n",
       "      <td>1</td>\n",
       "      <td>129.90</td>\n",
       "      <td>4</td>\n",
       "      <td>1</td>\n",
       "      <td>4</td>\n",
       "      <td>414</td>\n",
       "      <td>promising</td>\n",
       "    </tr>\n",
       "    <tr>\n",
       "      <th>1</th>\n",
       "      <td>0000b849f77a49e4a4ce2b2a4ca5be3f</td>\n",
       "      <td>119</td>\n",
       "      <td>1</td>\n",
       "      <td>18.90</td>\n",
       "      <td>4</td>\n",
       "      <td>1</td>\n",
       "      <td>1</td>\n",
       "      <td>411</td>\n",
       "      <td>promising</td>\n",
       "    </tr>\n",
       "    <tr>\n",
       "      <th>2</th>\n",
       "      <td>0000f46a3911fa3c0805444483337064</td>\n",
       "      <td>542</td>\n",
       "      <td>1</td>\n",
       "      <td>69.00</td>\n",
       "      <td>1</td>\n",
       "      <td>1</td>\n",
       "      <td>2</td>\n",
       "      <td>112</td>\n",
       "      <td>hibernating</td>\n",
       "    </tr>\n",
       "    <tr>\n",
       "      <th>3</th>\n",
       "      <td>0000f6ccb0745a6a4b88665a16c9f078</td>\n",
       "      <td>326</td>\n",
       "      <td>1</td>\n",
       "      <td>25.99</td>\n",
       "      <td>2</td>\n",
       "      <td>1</td>\n",
       "      <td>1</td>\n",
       "      <td>211</td>\n",
       "      <td>hibernating</td>\n",
       "    </tr>\n",
       "    <tr>\n",
       "      <th>4</th>\n",
       "      <td>0004aac84e0df4da2b147fca70cf8255</td>\n",
       "      <td>293</td>\n",
       "      <td>1</td>\n",
       "      <td>180.00</td>\n",
       "      <td>2</td>\n",
       "      <td>1</td>\n",
       "      <td>4</td>\n",
       "      <td>214</td>\n",
       "      <td>hibernating</td>\n",
       "    </tr>\n",
       "  </tbody>\n",
       "</table>\n",
       "</div>"
      ],
      "text/plain": [
       "                 customer_unique_id  Recency  Frequency  Monetary  R  F  M  \\\n",
       "0  0000366f3b9a7992bf8c76cfdf3221e2      116          1    129.90  4  1  4   \n",
       "1  0000b849f77a49e4a4ce2b2a4ca5be3f      119          1     18.90  4  1  1   \n",
       "2  0000f46a3911fa3c0805444483337064      542          1     69.00  1  1  2   \n",
       "3  0000f6ccb0745a6a4b88665a16c9f078      326          1     25.99  2  1  1   \n",
       "4  0004aac84e0df4da2b147fca70cf8255      293          1    180.00  2  1  4   \n",
       "\n",
       "  RFM Score      Segment  \n",
       "0       414    promising  \n",
       "1       411    promising  \n",
       "2       112  hibernating  \n",
       "3       211  hibernating  \n",
       "4       214  hibernating  "
      ]
     },
     "execution_count": 236,
     "metadata": {},
     "output_type": "execute_result"
    }
   ],
   "source": [
    "segt_map = {\n",
    "    r'[1-2][1-2]': 'hibernating',\n",
    "    r'[1-2][3-4]': 'at risk',\n",
    "    r'[1-2]5': 'can\\'t loose',\n",
    "    r'3[1-2]': 'about to sleep',\n",
    "    r'33': 'need attention',\n",
    "    r'[3-4][4-5]': 'loyal customers',\n",
    "    r'41': 'promising',\n",
    "    r'51': 'new customers',\n",
    "    r'[4-5][2-3]': 'potential loyalists',\n",
    "    r'5[4-5]': 'champions'\n",
    "}\n",
    "\n",
    "rfm['Segment'] = rfm['R'].map(str) + rfm['F'].map(str)\n",
    "rfm['Segment'] = rfm['Segment'].replace(segt_map, regex=True)\n",
    "rfm.head()"
   ]
  },
  {
   "cell_type": "markdown",
   "metadata": {},
   "source": [
    "Теперь, когда у нас есть результаты, мы можем выполнить некоторую визуализацию данных, чтобы получить лучшее представление о  наших клиентах. Сначала давайте посмотрим на распределение R, F и M."
   ]
  },
  {
   "cell_type": "code",
   "execution_count": 237,
   "metadata": {},
   "outputs": [
    {
     "data": {
      "image/png": "[encoded data removed]",
      "text/plain": [
       "<Figure size 720x288 with 2 Axes>"
      ]
     },
     "metadata": {
      "needs_background": "light"
     },
     "output_type": "display_data"
    },
    {
     "data": {
      "image/png": "[encoded data removed]",
      "text/plain": [
       "<Figure size 720x720 with 25 Axes>"
      ]
     },
     "metadata": {
      "needs_background": "light"
     },
     "output_type": "display_data"
    }
   ],
   "source": [
    "# plot the distribution of customers over R and F\n",
    "fig, axes = plt.subplots(nrows=1, ncols=2, figsize=(10, 4))\n",
    "\n",
    "for i, p in enumerate(['R', 'F']):\n",
    "    parameters = {'R':'Recency', 'F':'Frequency'}\n",
    "    y = rfm[p].value_counts().sort_index()\n",
    "    x = y.index\n",
    "    ax = axes[i]\n",
    "    bars = ax.bar(x, y, color='silver')\n",
    "    ax.set_frame_on(False)\n",
    "    ax.tick_params(left=False, labelleft=False, bottom=False)\n",
    "    ax.set_title('Distribution of {}'.format(parameters[p]),\n",
    "                fontsize=14)\n",
    "    for bar in bars:\n",
    "        value = bar.get_height()\n",
    "        if value == y.max():\n",
    "            bar.set_color('firebrick')\n",
    "        ax.text(bar.get_x() + bar.get_width() / 2,\n",
    "                value - 5,\n",
    "                '{}\\n({}%)'.format(int(value), int(value * 100 / y.sum())),\n",
    "               ha='center',\n",
    "               va='top',\n",
    "               color='w')\n",
    "\n",
    "plt.show()\n",
    "\n",
    "# plot the distribution of M for RF score\n",
    "fig, axes = plt.subplots(nrows=5, ncols=5,\n",
    "                         sharex=False, sharey=True,\n",
    "                         figsize=(10, 10))\n",
    "\n",
    "r_range = range(1, 6)\n",
    "f_range = range(1, 6)\n",
    "for r in r_range:\n",
    "    for f in f_range:\n",
    "        y = rfm[(rfm['R'] == r) & (rfm['F'] == f)]['M'].value_counts().sort_index()\n",
    "        x = y.index\n",
    "        ax = axes[r - 1, f - 1]\n",
    "        bars = ax.bar(x, y, color='silver')\n",
    "        if r == 5:\n",
    "            if f == 3:\n",
    "                ax.set_xlabel('{}\\nF'.format(f), va='top')\n",
    "            else:\n",
    "                ax.set_xlabel('{}\\n'.format(f), va='top')\n",
    "        if f == 1:\n",
    "            if r == 3:\n",
    "                ax.set_ylabel('R\\n{}'.format(r))\n",
    "            else:\n",
    "                ax.set_ylabel(r)\n",
    "        ax.set_frame_on(False)\n",
    "        ax.tick_params(left=False, labelleft=False, bottom=False)\n",
    "        ax.set_xticks(x)\n",
    "        ax.set_xticklabels(x, fontsize=8)\n",
    "\n",
    "        for bar in bars:\n",
    "            value = bar.get_height()\n",
    "            if value == y.max():\n",
    "                bar.set_color('firebrick')\n",
    "            ax.text(bar.get_x() + bar.get_width() / 2,\n",
    "                    value,\n",
    "                    int(value),\n",
    "                    ha='center',\n",
    "                    va='bottom',\n",
    "                    color='k')\n",
    "fig.suptitle('Distribution of M for each F and R',\n",
    "             fontsize=14)\n",
    "plt.tight_layout()\n",
    "plt.show()"
   ]
  },
  {
   "cell_type": "markdown",
   "metadata": {},
   "source": [
    "Мы можем видеть, что, если недавность покупок равномерно распределена, 87% покупателей совершает покупки очень редко(частота 1).\n",
    "Если посмотреть на денежную оценку, мы видим, что она распределена равномерно между всеми группами.\n",
    "\n",
    "Давайте посмотрим на распределение наших сегментов.\n",
    "Для этого хорошо подходят столбчатые диаграммы."
   ]
  },
  {
   "cell_type": "code",
   "execution_count": 238,
   "metadata": {},
   "outputs": [
    {
     "data": {
      "image/png": "[encoded data removed]",
      "text/plain": [
       "<Figure size 432x288 with 1 Axes>"
      ]
     },
     "metadata": {
      "needs_background": "light"
     },
     "output_type": "display_data"
    }
   ],
   "source": [
    "# count the number of customers in each segment\n",
    "segments_counts = rfm['Segment'].value_counts().sort_values(ascending=True)\n",
    "\n",
    "fig, ax = plt.subplots()\n",
    "\n",
    "bars = ax.barh(range(len(segments_counts)),\n",
    "              segments_counts,\n",
    "              color='silver')\n",
    "ax.set_frame_on(False)\n",
    "ax.tick_params(left=False,\n",
    "               bottom=False,\n",
    "               labelbottom=False)\n",
    "ax.set_yticks(range(len(segments_counts)))\n",
    "ax.set_yticklabels(segments_counts.index)\n",
    "\n",
    "for i, bar in enumerate(bars):\n",
    "        value = bar.get_width()\n",
    "        if segments_counts.index[i] in ['champions', 'loyal customers']:\n",
    "            bar.set_color('firebrick')\n",
    "        ax.text(value,\n",
    "                bar.get_y() + bar.get_height()/2,\n",
    "                '{:,} ({:}%)'.format(int(value),\n",
    "                                   int(value*100/segments_counts.sum())),\n",
    "                va='center',\n",
    "                ha='left'\n",
    "               )\n",
    "\n",
    "plt.show()"
   ]
  },
  {
   "cell_type": "markdown",
   "metadata": {},
   "source": [
    "У нас много клиентов, которые нечасто совершают у нас покупки (33,6% в режиме Hibernating - Последняя покупка была совершена давно и количество заказов было низким. Может быть потеряно). Приблизительно 16,8 % наших клиентов являются либо новыми клиентами, либо теми, кто недавно покупал, но потратил немного, либо со статусом About To Sleep - новизна и частота ниже среднего. Максимально лояльные категории клиентов, такие как Champions, Can't lose и Loyal customers составляют в совокупности 11,9%, что является нормальным показателем для бизнеса."
   ]
  }
 ],
 "metadata": {
  "kernelspec": {
   "display_name": "Python 3",
   "language": "python",
   "name": "python3"
  },
  "language_info": {
   "codemirror_mode": {
    "name": "ipython",
    "version": 3
   },
   "file_extension": ".py",
   "mimetype": "text/x-python",
   "name": "python",
   "nbconvert_exporter": "python",
   "pygments_lexer": "ipython3",
   "version": "3.7.3"
  }
 },
 "nbformat": 4,
 "nbformat_minor": 4
}
